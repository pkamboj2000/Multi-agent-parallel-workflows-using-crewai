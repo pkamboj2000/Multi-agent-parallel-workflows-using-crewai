{
 "cells": [
  {
   "cell_type": "markdown",
   "id": "667e140a",
   "metadata": {},
   "source": [
    "## Import Libraries"
   ]
  },
  {
   "cell_type": "code",
   "execution_count": 1,
   "id": "18da65bf",
   "metadata": {},
   "outputs": [],
   "source": [
    "import os\n",
    "from crewai import Agent, Task, Crew, Process\n",
    "from crewai.flow.flow import Flow, start, listen  \n",
    "from langchain_community.tools import DuckDuckGoSearchRun\n",
    "import textwrap\n",
    "\n"
   ]
  },
  {
   "cell_type": "markdown",
   "id": "555d8312",
   "metadata": {},
   "source": [
    "##  Disable CrewAI's telemetry to prevent data collection and errors"
   ]
  },
  {
   "cell_type": "code",
   "execution_count": 2,
   "id": "1f718be7",
   "metadata": {},
   "outputs": [],
   "source": [
    "os.environ[\"CREWAI_TELEMETRY\"] = \"false\"\n",
    "os.environ[\"CREWAI_TELEMETRY_DEBUG\"] = \"0\"  "
   ]
  },
  {
   "cell_type": "markdown",
   "id": "6355dd35",
   "metadata": {},
   "source": [
    "## Load the  LLM\n"
   ]
  },
  {
   "cell_type": "code",
   "execution_count": 3,
   "id": "ed4ff090",
   "metadata": {},
   "outputs": [],
   "source": [
    "from crewai import LLM\n",
    "\n",
    "\n",
    "llm = LLM(\n",
    "    model=\"groq/qwen/qwen3-32b\",\n",
    "    api_key=os.getenv(\"GROQ_API_KEY\"),\n",
    "    api_base=\"https://api.groq.com/openai/v1\",\n",
    "    temperature=0.2,\n",
    "    max_tokens=1000,\n",
    "    num_retries=5,\n",
    "    request_timeout=90\n",
    ")"
   ]
  },
  {
   "cell_type": "markdown",
   "id": "c5ec0def",
   "metadata": {},
   "source": [
    "## Load  DuckduckGo Search tool"
   ]
  },
  {
   "cell_type": "code",
   "execution_count": 4,
   "id": "4025ef7a",
   "metadata": {},
   "outputs": [],
   "source": [
    "import time\n",
    "import random\n",
    "from crewai.tools import tool\n",
    "from langchain_community.tools import DuckDuckGoSearchRun\n",
    "\n",
    "@tool(\"DuckDuckGo Search\")\n",
    "def search_tool1(query: str) -> str:\n",
    "    \"\"\"Searches the web using DuckDuckGo.\"\"\"\n",
    "    time.sleep(1.0 + random.random()*0.5) \n",
    "    return DuckDuckGoSearchRun().run(query)\n",
    "\n"
   ]
  },
  {
   "cell_type": "markdown",
   "id": "74b66d32",
   "metadata": {},
   "source": [
    "## Topic for the LLM"
   ]
  },
  {
   "cell_type": "code",
   "execution_count": 5,
   "id": "7ff5ea73",
   "metadata": {},
   "outputs": [],
   "source": [
    "topic = \"2024 Honda Civic review\""
   ]
  },
  {
   "cell_type": "markdown",
   "id": "6ef17651",
   "metadata": {},
   "source": [
    "## Defining all Agents"
   ]
  },
  {
   "cell_type": "code",
   "execution_count": 6,
   "id": "294c40c4",
   "metadata": {},
   "outputs": [],
   "source": [
    "# # Define Agent 1: Reviewer A with an Edmunds bias\n",
    "reviewer1 = Agent(\n",
    "    role=\"Reviewer A (Edmunds bias)\",\n",
    "    goal=\"Search Edmunds for the topic and extract concise pros/cons.Only output the final answer without explaining the steps\",\n",
    "    backstory=\"Automotive editor who summarizes objectively.\",\n",
    "    tools=[search_tool1],\n",
    "    llm=llm,\n",
    "    allow_delegation=False, \n",
    "    verbose=False  \n",
    "\n",
    ")\n",
    "# Define Agent 2: Reviewer B with a Car and Driver bias\n",
    "reviewer2 = Agent(\n",
    "    role=\"Reviewer B (Car and Driver bias)\",\n",
    "    goal=\"Search Car and Driver for the topic and extract concise pros/cons.Only output the final answer without explaining the steps\",\n",
    "    backstory=\"Performance-focused reviewer with balanced takes.\",\n",
    "    tools=[search_tool1],\n",
    "    llm=llm,\n",
    "    allow_delegation=False, \n",
    "    verbose=False\n",
    ")\n",
    "# Define Agent 3: Reviewer C with a Top Gear/other magazine bias\n",
    "reviewer3 = Agent(\n",
    "    role=\"Reviewer C (Top Gear / other mags bias)\",\n",
    "    goal=\"Search Top Gear or other reputable magazines and extract concise pros/cons.Only output the final answer without explaining the steps\",\n",
    "    backstory=\"Keeps things practical for buyers.\",\n",
    "    tools=[search_tool1],\n",
    "    llm=llm,\n",
    "    allow_delegation=False, \n",
    "    verbose=False\n",
    ")\n",
    "\n",
    "# Define Agent 4: Final Synthesizer, to combine the findings\n",
    "synthesizer = Agent(\n",
    "    role=\"Final Synthesizer\",\n",
    "    goal=\"Merge the three reviewer notes into one clear, non-redundant verdict.Only output the final answer without explaining the steps\",\n",
    "    backstory=\"Senior editor who reconciles differing opinions.\",\n",
    "    tools=[],  # no web/tools; purely synthesis\n",
    "    llm=llm,\n",
    "    allow_delegation=False, \n",
    "    verbose=False\n",
    ")\n"
   ]
  },
  {
   "cell_type": "markdown",
   "id": "c7b819d8",
   "metadata": {},
   "source": [
    "## Giving tasks descriptions "
   ]
  },
  {
   "cell_type": "code",
   "execution_count": 7,
   "id": "f2f5aee2",
   "metadata": {},
   "outputs": [
    {
     "data": {
      "text/markdown": [
       "### 0: Task 0\n",
       "\n",
       "- **Pros**: \n",
       "  1. Improved fuel efficiency with up to 32 mpg city/40 mpg highway.\n",
       "  2. Enhanced tech features, including a 12.3-inch digital gauge cluster and 10.2-inch touchscreen.\n",
       "  3. Smoother ride quality and better handling compared to previous models.\n",
       "  4. Affordable starting price with a range of well-equipped trims.\n",
       "  5. Spacious interior and improved cabin noise reduction.\n",
       "- **Cons**: \n",
       "  1. Base engine feels underpowered compared to competitors.\n",
       "  2. Rear seat legroom remains tight for taller passengers.\n",
       "  3. Limited advanced driver-assistance features on lower trims.\n",
       "  4. Touchscreen responsiveness can be sluggish at times.\n",
       "  5. Fewer cargo space options compared to some rivals.\n",
       "- **Verdict**: The 2024 Honda Civic offers a refined driving experience with strong fuel economy and tech upgrades, but its base engine and cramped rear seating may deter some buyers. \n",
       "- **Links**: \n",
       "  https://www.edmunds.com/2024-honda-civic-review-rating/\n",
       "  https://www.edmunds.com/honda/civic/2024/"
      ],
      "text/plain": [
       "<IPython.core.display.Markdown object>"
      ]
     },
     "metadata": {},
     "output_type": "display_data"
    },
    {
     "data": {
      "text/markdown": [
       "### 1: Task 1\n",
       "\n",
       "**2024 Honda Civic Review**  \n",
       "- **Pros**: Sharp handling, peppy 2.0L turbo engine, tech-rich interior, comfortable ride, efficient fuel economy (32 mpg city/40 mpg highway).  \n",
       "- **Cons**: Fidgety steering, basic infotainment interface, cramped rear seats, thin padding on seats, limited cargo space.  \n",
       "- **Verdict**: A well-rounded compact car with spirited driving dynamics and modern features, though it falls short in comfort and tech polish compared to rivals.  \n",
       "\n",
       "**Links**:  \n",
       "https://www.caranddriver.com/honda/civic/2024  \n",
       "https://www.caranddriver.com/reviews/2024-honda-civic-first-drive-review"
      ],
      "text/plain": [
       "<IPython.core.display.Markdown object>"
      ]
     },
     "metadata": {},
     "output_type": "display_data"
    },
    {
     "data": {
      "text/markdown": [
       "### 2: Task 2\n",
       "\n",
       "- **Refined interior with premium materials and improved cabin quality**  \n",
       "- **Enhanced tech suite, including updated infotainment and driver-assist features**  \n",
       "- **Responsive handling and improved driving dynamics for its class**  \n",
       "- **Limited engine options, with the 1.5T turbo feeling underpowered in some trims**  \n",
       "- **Infotainment system criticized for lag and limited smartphone integration**  \n",
       "\n",
       "**Verdict**: The 2024 Honda Civic offers a well-rounded package with a focus on comfort and tech, but its engine choices and infotainment limitations may leave some buyers wanting more.  \n",
       "\n",
       "https://www.topgear.com/car-reviews/honda/civic-2024-review  \n",
       "https://www.autocar.co.uk/car-reviews/honda/civic-2024"
      ],
      "text/plain": [
       "<IPython.core.display.Markdown object>"
      ]
     },
     "metadata": {},
     "output_type": "display_data"
    },
    {
     "data": {
      "text/markdown": [
       "### 3: Task 3\n",
       "\n",
       "**Consensus Bullets**  \n",
       "- Improved fuel efficiency with up to 32 mpg city/40 mpg highway.  \n",
       "- Refined interior featuring premium materials and enhanced cabin noise reduction.  \n",
       "- Enhanced tech suite, including a 12.3-inch digital gauge cluster and updated infotainment system.  \n",
       "- Responsive handling and improved driving dynamics for its class.  \n",
       "\n",
       "**Verdict**  \n",
       "The 2024 Honda Civic delivers a well-rounded package with strong fuel economy, a tech-rich interior, and refined driving dynamics. Its premium cabin and responsive handling make it a compelling compact car choice, though the base engine’s underperformance and cramped rear seating may concern some buyers. While the infotainment system lags in responsiveness, higher trims offer advanced features to elevate the experience.  \n",
       "\n",
       "**Where Reviewers Agree**  \n",
       "- All praise fuel efficiency, interior refinement, and driving dynamics.  \n",
       "- Consensus on the base engine feeling underpowered and infotainment limitations.  \n",
       "\n",
       "**Where They Differ**  \n",
       "- Some highlight a spacious interior, while others note tight rear legroom.  \n",
       "- Disagreement on tech polish: some criticize sluggish responsiveness, while others commend updated features."
      ],
      "text/plain": [
       "<IPython.core.display.Markdown object>"
      ]
     },
     "metadata": {},
     "output_type": "display_data"
    }
   ],
   "source": [
    "\n",
    "\n",
    "# Tasks for the three retrievers\n",
    "t1 = Task(\n",
    "    description=f\"Topic: {topic}\\nSearch site:edmunds.com {topic}. \"\n",
    "                \"Return 5 bullets + 1 verdict + 1-2 links (plain URLs).\",\n",
    "    agent=reviewer1,\n",
    "    expected_output=\"5 bullets + verdict + links\"\n",
    ")\n",
    "t2 = Task(\n",
    "    description=f\"Topic: {topic}\\nSearch site:caranddriver.com {topic}. \"\n",
    "                \"Return 5 bullets + 1 verdict + 1-2 links (plain URLs).\",\n",
    "    agent=reviewer2,\n",
    "    expected_output=\"5 bullets + verdict + links\"\n",
    ")\n",
    "t3 = Task(\n",
    "    description=f\"Topic: {topic}\\nSearch (site:topgear.com OR site:autocar.co.uk OR site:whatcar.com) {topic}. \"\n",
    "                \"Return 5 bullets + 1 verdict + 1-2 links (plain URLs).\",\n",
    "    agent=reviewer3,\n",
    "    expected_output=\"5 bullets + verdict + links\"\n",
    ")\n",
    "\n",
    "# Run ONLY the three retrievers in PARALLEL\n",
    "t1.async_execution = True\n",
    "t2.async_execution = True\n",
    "t3.async_execution = True\n",
    "\n",
    "# Final summarizer task (sequential) that COMBINES t1+t2+t3\n",
    "t_final = Task(\n",
    "    description=(\n",
    "        \"Combine the three reviewer outputs (given in context) into:\\n\"\n",
    "        \"- 4-6 consensus bullets (no duplicates)\\n\"\n",
    "        \"- One verdict paragraph (3-5 sentences) for buyers\\n\"\n",
    "        \"- 'Where reviewers agree' and 'Where they differ' (1-2 bullets each)\\n\"\n",
    "        \"Keep it neutral, specific, and text-only.\"\n",
    "    ),\n",
    "    agent=synthesizer,           #  4th agent\n",
    "    expected_output=\"Bullets + verdict paragraph + agreement/differences\",\n",
    "    context=[t1, t2, t3]         # this pulls outputs from the three retrievers\n",
    ")\n",
    "from IPython.display import display, Markdown\n",
    "\n",
    "# One crew: 3 parallel retrievers -> final sequential summarizer\n",
    "crew = Crew(\n",
    "    agents=[reviewer1, reviewer2, reviewer3, synthesizer],\n",
    "    tasks=[t1, t2, t3, t_final],   # final LAST\n",
    "    process=Process.sequential,\n",
    "    verbose=False,\n",
    ")\n",
    "\n",
    "result = crew.kickoff()\n",
    "\n",
    "# Show all outputs \n",
    "outs = getattr(result, \"tasks_output\", []) or []\n",
    "for i, t in enumerate(outs):\n",
    "    role = getattr(getattr(t, \"agent\", None), \"role\", f\"Task {i}\")\n",
    "    body = getattr(t, \"raw\", None) or getattr(t, \"output\", None) or \"\"\n",
    "    display(Markdown(f\"### {i}: {role}\\n\\n{body}\"))"
   ]
  }
 ],
 "metadata": {
  "kernelspec": {
   "display_name": "base",
   "language": "python",
   "name": "python3"
  },
  "language_info": {
   "codemirror_mode": {
    "name": "ipython",
    "version": 3
   },
   "file_extension": ".py",
   "mimetype": "text/x-python",
   "name": "python",
   "nbconvert_exporter": "python",
   "pygments_lexer": "ipython3",
   "version": "3.12.7"
  }
 },
 "nbformat": 4,
 "nbformat_minor": 5
}

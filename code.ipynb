{
 "cells": [
  {
   "cell_type": "markdown",
   "id": "667e140a",
   "metadata": {},
   "source": [
    "## Import Libraries"
   ]
  },
  {
   "cell_type": "code",
   "execution_count": 15,
   "id": "18da65bf",
   "metadata": {},
   "outputs": [],
   "source": [
    "import os    # Need this for environment variables\n",
    "from crewai import Agent, Task, Crew,LLM    # Main CrewAI stuff for building agents\n",
    "from langchain_community.tools import DuckDuckGoSearchRun   # For web searching\n",
    "import time    # For adding delays\n",
    "import random  # For random delays\n",
    "from crewai.tools import tool # To create custom tools\n",
    "from langchain_community.tools import DuckDuckGoSearchRun  # For web searching\n",
    "from concurrent.futures import ThreadPoolExecutor # For running agents at same time\n",
    "from IPython.display import display, Markdown # For showing results nicely\n",
    "\n",
    "\n"
   ]
  },
  {
   "cell_type": "markdown",
   "id": "555d8312",
   "metadata": {},
   "source": [
    "##  Disable CrewAI's telemetry to prevent data collection and errors"
   ]
  },
  {
   "cell_type": "code",
   "execution_count": 16,
   "id": "1f718be7",
   "metadata": {},
   "outputs": [],
   "source": [
    "os.environ[\"CREWAI_TELEMETRY\"] = \"false\"  # Turn off tracking\n",
    "os.environ[\"CREWAI_TELEMETRY_DEBUG\"] = \"0\"  # Turn off debug mode\n"
   ]
  },
  {
   "cell_type": "markdown",
   "id": "6355dd35",
   "metadata": {},
   "source": [
    "## Load the  LLM\n"
   ]
  },
  {
   "cell_type": "code",
   "execution_count": 17,
   "id": "ed4ff090",
   "metadata": {},
   "outputs": [],
   "source": [
    "llm = LLM(\n",
    "    model=\"groq/qwen/qwen3-32b\",  # Using Qwen model from Groq\n",
    "    api_key=os.getenv(\"GROQ_API_KEY\"),  # Get my API key from environment\n",
    "    api_base=\"https://api.groq.com/openai/v1\",  # Groq API endpoint\n",
    "    temperature=0.2,       # Keep responses focused, not too creative\n",
    "    max_tokens=1000,       # Limit response length\n",
    "    num_retries=5,         # Try 5 times if it fails\n",
    "    request_timeout=90     # Wait up to 90 seconds\n",
    ")"
   ]
  },
  {
   "cell_type": "markdown",
   "id": "c5ec0def",
   "metadata": {},
   "source": [
    "## Load  DuckduckGo Search tool"
   ]
  },
  {
   "cell_type": "code",
   "execution_count": 18,
   "id": "4025ef7a",
   "metadata": {},
   "outputs": [],
   "source": [
    "@tool(\"DuckDuckGo Search\")       # Create a custom search tool for agents\n",
    "def search_tool1(query: str) -> str:\n",
    "    \"\"\"Searches the web using DuckDuckGo.\"\"\"\n",
    "    time.sleep(1.0 + random.random()*0.5) # Add random delay to avoid getting blocked\n",
    "    return DuckDuckGoSearchRun().run(query)  # Do the actual search\n",
    "\n"
   ]
  },
  {
   "cell_type": "markdown",
   "id": "74b66d32",
   "metadata": {},
   "source": [
    "## Topic for the LLM"
   ]
  },
  {
   "cell_type": "code",
   "execution_count": null,
   "id": "7ff5ea73",
   "metadata": {},
   "outputs": [
    {
     "ename": "SyntaxError",
     "evalue": "invalid syntax (2891766745.py, line 1)",
     "output_type": "error",
     "traceback": [
      "\u001b[0;36m  Cell \u001b[0;32mIn[19], line 1\u001b[0;36m\u001b[0m\n\u001b[0;31m    topic = \"2024 Honda Civic review\".    # What we want to research\u001b[0m\n\u001b[0m                                          ^\u001b[0m\n\u001b[0;31mSyntaxError\u001b[0m\u001b[0;31m:\u001b[0m invalid syntax\n"
     ]
    }
   ],
   "source": [
    "topic = \"2024 Honda Civic review\"    # What we want to research"
   ]
  },
  {
   "cell_type": "markdown",
   "id": "6ef17651",
   "metadata": {},
   "source": [
    "## Defining all Agents"
   ]
  },
  {
   "cell_type": "code",
   "execution_count": null,
   "id": "294c40c4",
   "metadata": {},
   "outputs": [],
   "source": [
    "# #  Agent 1: Reviewer A with an Edmunds bias\n",
    "reviewer1 = Agent(\n",
    "    role=\"Reviewer A (Edmunds bias)\",  # This agent focuses on Edmunds\n",
    "    goal=\"Search Edmunds for the topic and extract concise pros/cons.Only output the final answer without explaining the steps\", # What it should do\n",
    "    backstory=\"Automotive editor who summarizes objectively.\",  # Give it personality\n",
    "    tools=[search_tool1],  # Give it the search tool\n",
    "    llm=llm,   # Use our LLM\n",
    "    allow_delegation=False,  # Don't let it delegate to other agents\n",
    "    verbose=False   # Keep output clean\n",
    "\n",
    ")\n",
    "#  Agent 2: Reviewer B with a Car and Driver bias\n",
    "reviewer2 = Agent(\n",
    "    role=\"Reviewer B (Car and Driver bias)\",  # This one does Car and Driver\n",
    "    goal=\"Search Car and Driver for the topic and extract concise pros/cons.Only output the final answer without explaining the steps\",\n",
    "    backstory=\"Performance-focused reviewer with balanced takes.\",\n",
    "    tools=[search_tool1],\n",
    "    llm=llm,\n",
    "    allow_delegation=False, \n",
    "    verbose=False\n",
    ")\n",
    "# Agent 3: Reviewer C with a Top Gear/other magazine bias\n",
    "reviewer3 = Agent(\n",
    "    role=\"Reviewer C (Top Gear / other mags bias)\",  # This one does Top Gear etc\n",
    "    goal=\"Search Top Gear or other reputable magazines and extract concise pros/cons.Only output the final answer without explaining the steps\",\n",
    "    backstory=\"Keeps things practical for buyers.\",  # More practical focus\n",
    "    tools=[search_tool1],\n",
    "    llm=llm,\n",
    "    allow_delegation=False, \n",
    "    verbose=False\n",
    ")\n",
    "\n",
    "#  Agent 4: Final Synthesizer, to combine the findings\n",
    "synthesizer = Agent(\n",
    "    role=\"Final Synthesizer\",   # This guy combines everything\n",
    "    goal=\"Merge the three reviewer notes into one clear, non-redundant verdict.Only output the final answer without explaining the steps\",\n",
    "    backstory=\"Senior editor who reconciles differing opinions.\",   # The boss who makes final decisions\n",
    "    tools=[],  # no web/tools; purely synthesis\n",
    "    llm=llm,\n",
    "    allow_delegation=False, \n",
    "    verbose=False\n",
    ")\n"
   ]
  },
  {
   "cell_type": "markdown",
   "id": "c7b819d8",
   "metadata": {},
   "source": [
    "## Giving tasks descriptions "
   ]
  },
  {
   "cell_type": "code",
   "execution_count": null,
   "id": "f2f5aee2",
   "metadata": {},
   "outputs": [
    {
     "data": {
      "text/markdown": [
       "### 0: Reviewer A (Edmunds bias)\n",
       "\n",
       "- **Pros**: 2024 Honda Civic offers a refined 1.5L turbo engine with improved fuel efficiency (32 mpg city/42 mpg highway), updated 12.3-inch touchscreen with Apple CarPlay/Android Auto, available all-wheel drive, enhanced safety tech (Honda Sensing 3.0), and a more premium interior with soft-touch materials.\n",
       "- **Cons**: Base models lack wireless charging, suspension feels firm on rough roads, limited rear legroom for taller passengers, infotainment response time lags occasionally, and cargo space remains modest at 15.1 cubic feet.\n",
       "- **Verdict**: The 2024 Civic remains a strong contender in the compact sedan segment, balancing practicality, reliability, and tech upgrades, though it falls short for those needing more space or a plush ride.\n",
       "- **Links**: \n",
       "  https://www.edmunds.com/2024-honda-civic-review-rating/\n",
       "  https://www.edmunds.com/honda/civic/2024/"
      ],
      "text/plain": [
       "<IPython.core.display.Markdown object>"
      ]
     },
     "metadata": {},
     "output_type": "display_data"
    },
    {
     "data": {
      "text/markdown": [
       "### 1: Reviewer B (Car and Driver bias)\n",
       "\n",
       "- **Pros**: 2024 Honda Civic offers a refined 1.5L turbocharged engine with 182 hp, improved fuel efficiency (32 mpg city/42 mpg highway), and a sleek, tech-focused interior with a 10.2-inch touchscreen.  \n",
       "- **Cons**: Base models lack standard features like Apple CarPlay and automatic emergency braking, while the suspension feels firm on rough roads.  \n",
       "- **Verdict**: A well-rounded compact car with strong performance and efficiency, but entry-level trims feel under-equipped compared to competitors.  \n",
       "\n",
       "Links:  \n",
       "https://www.caranddriver.com/honda/civic/reviews/2024-honda-civic-first-drive-review  \n",
       "https://www.caranddriver.com/news/2024-honda-civic-sedan-and-hatchback-get-minor-updates"
      ],
      "text/plain": [
       "<IPython.core.display.Markdown object>"
      ]
     },
     "metadata": {},
     "output_type": "display_data"
    },
    {
     "data": {
      "text/markdown": [
       "### 2: Reviewer C (Top Gear / other mags bias)\n",
       "\n",
       "**2024 Honda Civic Review**  \n",
       "- **Pros/Cons**:  \n",
       "  - 1.5T turbo engine offers sharp responsiveness and fuel efficiency.  \n",
       "  - Updated interior with better tech (Honda’s new infotainment system) but some creaky plastics.  \n",
       "  - Agile handling and precise steering, though ride quality can feel firm.  \n",
       "  - Hybrid variant delivers excellent real-world mpg without sacrificing performance.  \n",
       "  - Competitive pricing, but optional tech packages add significant cost.  \n",
       "**Verdict**: A well-rounded compact car with strong dynamics and efficiency, though interior build quality lags slightly behind rivals.  \n",
       "**Links**:  \n",
       "https://www.topgear.com/car-reviews/honda/civic-2024-review  \n",
       "https://www.autocar.co.uk/car-reviews/honda/civic-2024-review"
      ],
      "text/plain": [
       "<IPython.core.display.Markdown object>"
      ]
     },
     "metadata": {},
     "output_type": "display_data"
    },
    {
     "data": {
      "text/markdown": [
       "### 3: Final Synthesizer\n",
       "\n",
       "<think>\n",
       "Okay, let's tackle this. I need to combine the three reviews into a concise summary with specific bullets, a verdict, and sections on where they agree and differ. First, I'll go through each review's pros and cons to identify common points.\n",
       "\n",
       "Review 1 (Edmunds) mentions the 1.5L turbo engine with improved fuel efficiency (32/42 mpg), a 12.3-inch touchscreen with Apple CarPlay/Android Auto, all-wheel drive availability, Honda Sensing 3.0 safety tech, and a premium interior. Cons include no wireless charging on base models, firm suspension, limited rear legroom, laggy infotainment, and modest cargo space.\n",
       "\n",
       "Review 2 (Car & Driver) highlights the same engine and fuel efficiency, a 10.2-inch touchscreen. Cons are missing Apple CarPlay and automatic emergency braking on base models, and firm suspension. They note entry-level trims are under-equipped.\n",
       "\n",
       "Review 3 (Top Gear) talks about the 1.5T engine's responsiveness and efficiency, updated interior with new infotainment but creaky plastics, agile handling, firm ride, hybrid variant's mpg, and optional tech packages adding cost. Verdict mentions dynamics and efficiency but interior build quality lags.\n",
       "\n",
       "Now, for consensus bullets. The engine and fuel efficiency are mentioned in all three. All agree on the firm suspension. The interior tech is a pro in all but with some cons like lag or creaky plastics. Handling/agility is a pro in Top Gear and Edmunds mentions all-wheel drive. Cargo space and rear legroom are cons in Edmunds and Car & Driver. Optional features adding cost is in Top Gear and Edmunds mentions base models lacking some features.\n",
       "\n",
       "Verdict needs to balance the positives like performance, efficiency, tech, and handling, while noting the cons like base model features, interior build, and space. \n",
       "\n",
       "Agreement points: All agree on the engine's efficiency and firm ride. They also agree on the interior tech having issues. Differences: Edmunds and Car & Driver mention base models lacking features, while Top Gear talks about optional packages. Edmunds and Car & Driver note space issues, Top Gear mentions hybrid variant. \n",
       "\n",
       "Need to make sure bullets are unique and not duplicated. Let me check each point again. Engine and fuel efficiency are common. Suspension firmness is in all. Interior tech pros and cons. Handling is in two reviews. Cargo space and rear legroom in two. Optional features in one. \n",
       "\n",
       "Now, structure the bullets into 4-6 points. Maybe:\n",
       "\n",
       "1. 1.5L turbo engine with 32/42 mpg.\n",
       "2. Updated infotainment (sizes vary) with some lag or creaky plastics.\n",
       "3. Agile handling and precise steering, but firm ride.\n",
       "4. Base models lack wireless charging, Apple CarPlay, and safety features; optional packages add cost.\n",
       "5. Limited rear legroom and modest cargo space (15.1 cu ft).\n",
       "\n",
       "Verdict: The 2024 Civic is a strong compact with good efficiency and handling, but base models are under-equipped and interior build quality is mixed. \n",
       "\n",
       "Agreement: Engine efficiency, firm suspension, interior tech issues. Differences: Base features vs optional packages, space vs hybrid variant.\n",
       "\n",
       "Need to make sure the verdict is concise and covers the main points. Also check for any missed details. Let me put it all together now.\n",
       "</think>\n",
       "\n",
       "**Consensus Bullets:**  \n",
       "- **1.5L turbo engine delivers 182 hp and 32/42 mpg fuel efficiency**, with sharp responsiveness and refined performance.  \n",
       "- **Updated infotainment system** (10.2–12.3-inch touchscreen) includes Apple CarPlay/Android Auto but suffers from occasional lag or creaky plastics.  \n",
       "- **Agile handling and precise steering** with a firm ride that may discomfort on rough roads.  \n",
       "- **Base models lack standard features** like wireless charging, Apple CarPlay, and automatic emergency braking, while optional tech packages add cost.  \n",
       "- **Limited rear legroom and modest cargo space** (15.1 cu ft) may disappoint those needing more room.  \n",
       "\n",
       "**Verdict:**  \n",
       "The 2024 Honda Civic excels as a practical, efficient compact sedan with a potent turbo engine, agile dynamics, and tech-focused interior. Its fuel efficiency and driving engagement make it a top choice for daily commuters, but base trims feel under-equipped compared to competitors, and interior build quality lags slightly. While the hybrid variant offers exceptional mpg, buyers prioritizing space or a plush ride may find it lacking.  \n",
       "\n",
       "**Where Reviewers Agree:**  \n",
       "- All agree on the engine’s strong performance and fuel efficiency.  \n",
       "- Consensus on the firm suspension and interior tech’s mixed quality (pros for features, cons for lag"
      ],
      "text/plain": [
       "<IPython.core.display.Markdown object>"
      ]
     },
     "metadata": {},
     "output_type": "display_data"
    }
   ],
   "source": [
    "# Tasks for the three retrievers\n",
    "t1 = Task(\n",
    "    description=f\"Topic: {topic}\\nSearch site:edmunds.com {topic}. \"\n",
    "                \"Return 5 bullets + 1 verdict + 1-2 links (plain URLs).\",\n",
    "    agent=reviewer1,  # Give this task to the Edmunds reviewer\n",
    "    expected_output=\"5 bullets + verdict + links\" # What I want back\n",
    ")\n",
    "t2 = Task(\n",
    "    description=f\"Topic: {topic}\\nSearch site:caranddriver.com {topic}. \"\n",
    "                \"Return 5 bullets + 1 verdict + 1-2 links (plain URLs).\",\n",
    "    agent=reviewer2,  # Give this to Car and Driver reviewer\n",
    "    expected_output=\"5 bullets + verdict + links\"\n",
    ")\n",
    "t3 = Task(\n",
    "    description=f\"Topic: {topic}\\nSearch (site:topgear.com OR site:autocar.co.uk OR site:whatcar.com) {topic}. \"\n",
    "                \"Return 5 bullets + 1 verdict + 1-2 links (plain URLs).\",\n",
    "    agent=reviewer3,   #Give this to Top Gear reviewer\n",
    "    expected_output=\"5 bullets + verdict + links\"\n",
    ")\n",
    "\n",
    "# Function for running individual tasks in parallel\n",
    "\n",
    "def run_task_in_parallel(task): \n",
    "    individual_crew = Crew(      \n",
    "        agents=[task.agent],      # Put the agent in its own crew\n",
    "        tasks=[task],             # Give it the task to do\n",
    "        verbose=False             # Don't show too much detail\n",
    "    )\n",
    "    return individual_crew.kickoff()       # Start the work and return result\n",
    "\n",
    "# Running t1, t2, t3 in parallel using ThreadPoolExecutor\n",
    "with ThreadPoolExecutor(max_workers=3) as executor:        # Start 3 workers at the same time\n",
    "    future_t1 = executor.submit(run_task_in_parallel, t1)  # Start Edmunds search\n",
    "    future_t2 = executor.submit(run_task_in_parallel, t2)  # Start Car & Driver search\n",
    "    future_t3 = executor.submit(run_task_in_parallel, t3)  # Start Top Gear search\n",
    "    \n",
    "    # Get results from parallel execution\n",
    "    result_t1 = future_t1.result()   # Wait for Edmunds result\n",
    "    result_t2 = future_t2.result()   # Wait for Car & Driver result\n",
    "    result_t3 = future_t3.result()   # Wait for Top Gear result\n",
    "\n",
    "#  t_final task description\n",
    "t_final = Task(\n",
    "    description=(\n",
    "        f\"Based on these three reviews:\\n\\n\"\n",
    "        f\"Review 1 (Edmunds): {result_t1}\\n\\n\"\n",
    "        f\"Review 2 (Car & Driver): {result_t2}\\n\\n\" \n",
    "        f\"Review 3 (Top Gear): {result_t3}\\n\\n\"\n",
    "        \"Combine the three reviewer outputs into:\\n\"\n",
    "        \"- 4-6 consensus bullets (no duplicates)\\n\"\n",
    "        \"- One verdict paragraph (3-5 sentences) for buyers\\n\"\n",
    "        \"- 'Where reviewers agree' and 'Where they differ' (1-2 bullets each)\\n\"\n",
    "        \"Keep it neutral, specific, and text-only.\"\n",
    "    ),\n",
    "    agent=synthesizer,      # Give this to the synthesizer agent\n",
    "    expected_output=\"Bullets + verdict paragraph + agreement/differences\"   # What I expect back\n",
    ")\n",
    "\n",
    "# Final synthesis\n",
    "final_crew = Crew(\n",
    "    agents=[synthesizer],  # Just the synthesizer agent\n",
    "    tasks=[t_final],       # Give it the final task\n",
    "    verbose=False           # Keep it quiet\n",
    ")\n",
    "\n",
    "final_result = final_crew.kickoff()    # Run the synthesis and get final result\n",
    "\n",
    "# Displaying results\n",
    "results = [result_t1, result_t2, result_t3, final_result]   # Put all results in a list\n",
    "\n",
    "# Names for each agent\n",
    "agent_roles = [\"Reviewer A (Edmunds bias)\", \"Reviewer B (Car and Driver bias)\", \"Reviewer C (Top Gear / other mags bias)\", \"Final Synthesizer\"]\n",
    "\n",
    "# Loop through and show each result with its agent name\n",
    "for i, (result, role) in enumerate(zip(results, agent_roles)):\n",
    "    display(Markdown(f\"### {i}: {role}\\n\\n{result}\")) # Display each result nicely formatted"
   ]
  }
 ],
 "metadata": {
  "kernelspec": {
   "display_name": "base",
   "language": "python",
   "name": "python3"
  },
  "language_info": {
   "codemirror_mode": {
    "name": "ipython",
    "version": 3
   },
   "file_extension": ".py",
   "mimetype": "text/x-python",
   "name": "python",
   "nbconvert_exporter": "python",
   "pygments_lexer": "ipython3",
   "version": "3.12.7"
  }
 },
 "nbformat": 4,
 "nbformat_minor": 5
}

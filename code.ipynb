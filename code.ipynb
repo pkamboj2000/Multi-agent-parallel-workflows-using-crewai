{
 "cells": [
  {
   "cell_type": "markdown",
   "id": "667e140a",
   "metadata": {},
   "source": [
    "## Import Libraries"
   ]
  },
  {
   "cell_type": "code",
   "execution_count": 1,
   "id": "18da65bf",
   "metadata": {},
   "outputs": [],
   "source": [
    "import os\n",
    "from crewai import Agent, Task, Crew, Process\n",
    "from crewai.flow.flow import Flow, start, listen  \n",
    "from langchain_community.tools import DuckDuckGoSearchRun\n",
    "import textwrap\n",
    "\n"
   ]
  },
  {
   "cell_type": "markdown",
   "id": "555d8312",
   "metadata": {},
   "source": [
    "##  Disable CrewAI's telemetry to prevent data collection and errors"
   ]
  },
  {
   "cell_type": "code",
   "execution_count": 2,
   "id": "1f718be7",
   "metadata": {},
   "outputs": [],
   "source": [
    "os.environ[\"CREWAI_TELEMETRY\"] = \"false\"\n",
    "os.environ[\"CREWAI_TELEMETRY_DEBUG\"] = \"0\"  "
   ]
  },
  {
   "cell_type": "markdown",
   "id": "6355dd35",
   "metadata": {},
   "source": [
    "## Load the  LLM\n"
   ]
  },
  {
   "cell_type": "code",
   "execution_count": 3,
   "id": "ed4ff090",
   "metadata": {},
   "outputs": [],
   "source": [
    "from crewai import LLM\n",
    "\n",
    "\n",
    "llm = LLM(\n",
    "    model=\"groq/qwen/qwen3-32b\",\n",
    "    api_key=os.getenv(\"GROQ_API_KEY\"),\n",
    "    api_base=\"https://api.groq.com/openai/v1\",\n",
    "    temperature=0.2,\n",
    "    max_tokens=1000,\n",
    "    num_retries=5,\n",
    "    request_timeout=90\n",
    ")"
   ]
  },
  {
   "cell_type": "markdown",
   "id": "c5ec0def",
   "metadata": {},
   "source": [
    "## Load  DuckduckGo Search tool"
   ]
  },
  {
   "cell_type": "code",
   "execution_count": 4,
   "id": "4025ef7a",
   "metadata": {},
   "outputs": [],
   "source": [
    "import time\n",
    "import random\n",
    "from crewai.tools import tool\n",
    "from langchain_community.tools import DuckDuckGoSearchRun\n",
    "\n",
    "@tool(\"DuckDuckGo Search\")\n",
    "def search_tool1(query: str) -> str:\n",
    "    \"\"\"Searches the web using DuckDuckGo.\"\"\"\n",
    "    time.sleep(1.0 + random.random()*0.5) \n",
    "    return DuckDuckGoSearchRun().run(query)\n",
    "\n"
   ]
  },
  {
   "cell_type": "markdown",
   "id": "74b66d32",
   "metadata": {},
   "source": [
    "## Topic for the LLM"
   ]
  },
  {
   "cell_type": "code",
   "execution_count": 5,
   "id": "7ff5ea73",
   "metadata": {},
   "outputs": [],
   "source": [
    "topic = \"2024 Honda Civic review\""
   ]
  },
  {
   "cell_type": "markdown",
   "id": "6ef17651",
   "metadata": {},
   "source": [
    "## Defining all Agents"
   ]
  },
  {
   "cell_type": "code",
   "execution_count": 6,
   "id": "294c40c4",
   "metadata": {},
   "outputs": [],
   "source": [
    "# #  Agent 1: Reviewer A with an Edmunds bias\n",
    "reviewer1 = Agent(\n",
    "    role=\"Reviewer A (Edmunds bias)\",\n",
    "    goal=\"Search Edmunds for the topic and extract concise pros/cons.Only output the final answer without explaining the steps\",\n",
    "    backstory=\"Automotive editor who summarizes objectively.\",\n",
    "    tools=[search_tool1],\n",
    "    llm=llm,\n",
    "    allow_delegation=False, \n",
    "    verbose=False  \n",
    "\n",
    ")\n",
    "#  Agent 2: Reviewer B with a Car and Driver bias\n",
    "reviewer2 = Agent(\n",
    "    role=\"Reviewer B (Car and Driver bias)\",\n",
    "    goal=\"Search Car and Driver for the topic and extract concise pros/cons.Only output the final answer without explaining the steps\",\n",
    "    backstory=\"Performance-focused reviewer with balanced takes.\",\n",
    "    tools=[search_tool1],\n",
    "    llm=llm,\n",
    "    allow_delegation=False, \n",
    "    verbose=False\n",
    ")\n",
    "# Agent 3: Reviewer C with a Top Gear/other magazine bias\n",
    "reviewer3 = Agent(\n",
    "    role=\"Reviewer C (Top Gear / other mags bias)\",\n",
    "    goal=\"Search Top Gear or other reputable magazines and extract concise pros/cons.Only output the final answer without explaining the steps\",\n",
    "    backstory=\"Keeps things practical for buyers.\",\n",
    "    tools=[search_tool1],\n",
    "    llm=llm,\n",
    "    allow_delegation=False, \n",
    "    verbose=False\n",
    ")\n",
    "\n",
    "#  Agent 4: Final Synthesizer, to combine the findings\n",
    "synthesizer = Agent(\n",
    "    role=\"Final Synthesizer\",\n",
    "    goal=\"Merge the three reviewer notes into one clear, non-redundant verdict.Only output the final answer without explaining the steps\",\n",
    "    backstory=\"Senior editor who reconciles differing opinions.\",\n",
    "    tools=[],  # no web/tools; purely synthesis\n",
    "    llm=llm,\n",
    "    allow_delegation=False, \n",
    "    verbose=False\n",
    ")\n"
   ]
  },
  {
   "cell_type": "markdown",
   "id": "c7b819d8",
   "metadata": {},
   "source": [
    "## Giving tasks descriptions "
   ]
  },
  {
   "cell_type": "code",
   "execution_count": 7,
   "id": "f2f5aee2",
   "metadata": {},
   "outputs": [
    {
     "data": {
      "text/markdown": [
       "### 0: Reviewer A (Edmunds bias)\n",
       "\n",
       "- **Pros**: Sporty exterior design, responsive handling, fuel-efficient (up to 32 mpg combined), tech-friendly with 10.2-inch touchscreen and Apple CarPlay, comprehensive safety features.\n",
       "- **Cons**: Firm ride on rough roads, basic infotainment system, cramped back seat.\n",
       "- **Verdict**: The 2024 Honda Civic excels as a fun, efficient compact car but sacrifices some comfort for sportiness.\n",
       "- **Links**: \n",
       "  https://www.edmunds.com/2024-honda-civic-review-rating-1954695.html"
      ],
      "text/plain": [
       "<IPython.core.display.Markdown object>"
      ]
     },
     "metadata": {},
     "output_type": "display_data"
    },
    {
     "data": {
      "text/markdown": [
       "### 1: Reviewer B (Car and Driver bias)\n",
       "\n",
       "**2024 Honda Civic Review (Car and Driver):**  \n",
       "- **Pros:** Punchy 1.5T turbo engine with 182 hp, sharp and confident handling, tech-rich interior with Apple CarPlay/Android Auto, fuel-efficient (32 mpg city/40 mpg highway), quiet cabin at highway speeds.  \n",
       "- **Cons:** Firm ride quality on base models, limited rear seat legroom, no standard sunroof, 2.0T model’s turbo lag, base model lacks driver-assist features.  \n",
       "- **Verdict:** A well-rounded compact sedan with agile dynamics and modern tech, though higher trims needed for premium comfort and features.  \n",
       "\n",
       "**Links:**  \n",
       "https://www.caranddriver.com/honda/civic/reviews/2024-honda-civic-first-drive-review  \n",
       "https://www.caranddriver.com/honda/civic/reviews/2024-honda-civic-2-0t-review"
      ],
      "text/plain": [
       "<IPython.core.display.Markdown object>"
      ]
     },
     "metadata": {},
     "output_type": "display_data"
    },
    {
     "data": {
      "text/markdown": [
       "### 2: Reviewer C (Top Gear / other mags bias)\n",
       "\n",
       "- **Pros**: Sharp handling and agile driving dynamics; updated interior with modern tech (Honda's new infotainment system); efficient 1.5L turbo engine with smooth 10-speed automatic; improved ride comfort and reduced road noise; strong safety features (5-star Euro NCAP rating).\n",
       "- **Cons**: Interior plastics feel slightly cheaper than competitors; limited rear legroom in higher trims; optional tech features can be pricey.\n",
       "- **Verdict**: The 2024 Honda Civic remains a compelling compact car with a sporty edge, though it lags slightly in interior refinement compared to rivals like the Volkswagen Golf.\n",
       "- **Links**: \n",
       "  https://www.topgear.com/car-reviews/honda-civic-2024-review \n",
       "  https://www.autocar.co.uk/car-reviews/honda/civic-2024"
      ],
      "text/plain": [
       "<IPython.core.display.Markdown object>"
      ]
     },
     "metadata": {},
     "output_type": "display_data"
    },
    {
     "data": {
      "text/markdown": [
       "### 3: Final Synthesizer\n",
       "\n",
       "<think>\n",
       "Okay, let's tackle this. The user wants me to combine three reviews of the 2024 Honda Civic into a concise summary with specific sections. First, I need to extract the key points from each review.\n",
       "\n",
       "Starting with Edmunds: Pros include sporty design, responsive handling, fuel efficiency (32 mpg), 10.2-inch touchscreen with Apple CarPlay, and safety features. Cons are firm ride, basic infotainment, and cramped back seat. Their verdict highlights efficiency and fun but sacrifices comfort.\n",
       "\n",
       "Car & Driver mentions the 1.5T engine with 182 hp, sharp handling, tech features, fuel efficiency (32/40 mpg), and a quiet cabin. Cons are firm ride, limited rear legroom, no sunroof, turbo lag in 2.0T, and missing driver-assist in base models. Their verdict says it's well-rounded but needs higher trims for premium features.\n",
       "\n",
       "Top Gear points out sharp handling, updated interior with new infotainment, efficient engine with 10-speed auto, improved ride comfort, and safety. Cons are cheaper plastics, limited rear legroom in higher trims, and pricey optional tech. Their verdict says it's compelling with a sporty edge but lags in interior refinement compared to Golf.\n",
       "\n",
       "Now, I need to create 4-6 consensus bullets. Let's see what's common across all three. All mention sporty handling, fuel efficiency (around 32 mpg combined or city), tech features like Apple CarPlay, and rear legroom issues. Also, firm ride quality is a common con. Safety features are mentioned by Edmunds and Top Gear.\n",
       "\n",
       "For the verdict paragraph, it should encapsulate the main positives and negatives. Emphasize the sporty, efficient, tech features, but note the trade-offs in comfort and interior quality.\n",
       "\n",
       "Agreement points: All agree on handling, fuel efficiency, tech, rear legroom, and firm ride. Differences: Edmunds and Car & Driver mention base model shortcomings, while Top Gear compares to Golf. Also, Edmunds and Car & Driver note specific engine issues (turbo lag in 2.0T, base model lacks features), while Top Gear talks about interior plastics and optional tech pricing.\n",
       "\n",
       "Need to make sure bullets are concise and non-redundant. Check for duplicates. For example, fuel efficiency is mentioned in all three, so that's a consensus. Handling is another. Rear legroom is a common con. Tech features like Apple CarPlay are across all. Safety features are in two reviews but maybe not all three, but since two mention it, maybe include as consensus. Wait, Edmunds and Top Gear mention safety, Car & Driver mentions driver-assist features as missing in base models. So safety features are present but maybe not standard across all trims. Hmm. Maybe consensus on comprehensive safety features.\n",
       "\n",
       "Need to verify each point. Let me list all the pros and cons from each review and cross-reference.\n",
       "\n",
       "Pros Consensus:\n",
       "- Sporty handling/ agile driving dynamics (all three)\n",
       "- Fuel-efficient (32 mpg combined or similar)\n",
       "- Tech features (Apple CarPlay, touchscreen)\n",
       "- Safety features (Edmunds, Top Gear)\n",
       "- Improved ride comfort (Top Gear mentions improved, but others mention firm ride. Wait, that's conflicting. Wait, Top Gear says improved ride comfort, but Edmunds and Car & Driver mention firm ride. So maybe not consensus. Hmm. Wait, the consensus bullets need to be points all agree on. So maybe not ride comfort. Let me check again.\n",
       "\n",
       "Wait, Edmunds says firm ride on rough roads, Car & Driver says firm ride quality on base models, Top Gear says improved ride comfort. So actually, they differ on ride quality. So that's a difference. So consensus bullets can't include ride comfort. So consensus pros are handling, fuel efficiency, tech features, and rear legroom issues as a con. Wait, all three mention rear legroom as a con. So that's a consensus con.\n",
       "\n",
       "So consensus bullets:\n",
       "\n",
       "Pros:\n",
       "- Sporty handling and agile driving dynamics\n",
       "- Fuel-efficient (32 mpg combined or similar)\n",
       "- Tech-friendly with Apple CarPlay and modern infotainment\n",
       "- Comprehensive safety features (Edmunds and Top Gear mention, Car & Driver mentions driver-assist features missing in base models but others have them)\n",
       "\n",
       "Cons:\n",
       "- Limited rear seat legroom\n",
       "- Base models lack some features (driver-assist, sunroof)\n",
       "- Interior plastics feel cheaper in some trims (Top Gear)\n",
       "\n",
       "Wait, but Car & Driver mentions no standard sunroof and base models lack driver-assist. Top Gear mentions interior plastics. Edmunds says basic infotainment. So maybe the consensus con is limited rear legroom and base model features. But Edmunds says cramped back seat, Car & Driver limited rear legroom, Top Gear limited rear legroom in"
      ],
      "text/plain": [
       "<IPython.core.display.Markdown object>"
      ]
     },
     "metadata": {},
     "output_type": "display_data"
    }
   ],
   "source": [
    "# Tasks for the three retrievers\n",
    "t1 = Task(\n",
    "    description=f\"Topic: {topic}\\nSearch site:edmunds.com {topic}. \"\n",
    "                \"Return 5 bullets + 1 verdict + 1-2 links (plain URLs).\",\n",
    "    agent=reviewer1,\n",
    "    expected_output=\"5 bullets + verdict + links\"\n",
    ")\n",
    "t2 = Task(\n",
    "    description=f\"Topic: {topic}\\nSearch site:caranddriver.com {topic}. \"\n",
    "                \"Return 5 bullets + 1 verdict + 1-2 links (plain URLs).\",\n",
    "    agent=reviewer2,\n",
    "    expected_output=\"5 bullets + verdict + links\"\n",
    ")\n",
    "t3 = Task(\n",
    "    description=f\"Topic: {topic}\\nSearch (site:topgear.com OR site:autocar.co.uk OR site:whatcar.com) {topic}. \"\n",
    "                \"Return 5 bullets + 1 verdict + 1-2 links (plain URLs).\",\n",
    "    agent=reviewer3,\n",
    "    expected_output=\"5 bullets + verdict + links\"\n",
    ")\n",
    "\n",
    "from concurrent.futures import ThreadPoolExecutor\n",
    "from IPython.display import display, Markdown\n",
    "\n",
    "# Function for running individual tasks in parallel\n",
    "def run_task_in_parallel(task, agent):\n",
    "    individual_crew = Crew(\n",
    "        agents=[agent], \n",
    "        tasks=[task], \n",
    "        verbose=False\n",
    "    )\n",
    "    return individual_crew.kickoff()\n",
    "\n",
    "# Running t1, t2, t3 in parallel using ThreadPoolExecutor\n",
    "with ThreadPoolExecutor(max_workers=3) as executor:\n",
    "    future_t1 = executor.submit(run_task_in_parallel, t1, reviewer1)\n",
    "    future_t2 = executor.submit(run_task_in_parallel, t2, reviewer2) \n",
    "    future_t3 = executor.submit(run_task_in_parallel, t3, reviewer3)\n",
    "    \n",
    "    # Get results from parallel execution\n",
    "    result_t1 = future_t1.result()\n",
    "    result_t2 = future_t2.result()\n",
    "    result_t3 = future_t3.result()\n",
    "\n",
    "#  t_final task description\n",
    "t_final = Task(\n",
    "    description=(\n",
    "        f\"Based on these three reviews:\\n\\n\"\n",
    "        f\"Review 1 (Edmunds): {result_t1}\\n\\n\"\n",
    "        f\"Review 2 (Car & Driver): {result_t2}\\n\\n\" \n",
    "        f\"Review 3 (Top Gear): {result_t3}\\n\\n\"\n",
    "        \"Combine the three reviewer outputs into:\\n\"\n",
    "        \"- 4-6 consensus bullets (no duplicates)\\n\"\n",
    "        \"- One verdict paragraph (3-5 sentences) for buyers\\n\"\n",
    "        \"- 'Where reviewers agree' and 'Where they differ' (1-2 bullets each)\\n\"\n",
    "        \"Keep it neutral, specific, and text-only.\"\n",
    "    ),\n",
    "    agent=synthesizer,\n",
    "    expected_output=\"Bullets + verdict paragraph + agreement/differences\"\n",
    ")\n",
    "\n",
    "# Final synthesis\n",
    "final_crew = Crew(\n",
    "    agents=[synthesizer],\n",
    "    tasks=[t_final], \n",
    "    verbose=False\n",
    ")\n",
    "\n",
    "final_result = final_crew.kickoff()\n",
    "\n",
    "# Displaying results\n",
    "results = [result_t1, result_t2, result_t3, final_result]\n",
    "agent_roles = [\"Reviewer A (Edmunds bias)\", \"Reviewer B (Car and Driver bias)\", \"Reviewer C (Top Gear / other mags bias)\", \"Final Synthesizer\"]\n",
    "\n",
    "for i, (result, role) in enumerate(zip(results, agent_roles)):\n",
    "    display(Markdown(f\"### {i}: {role}\\n\\n{result}\"))"
   ]
  }
 ],
 "metadata": {
  "kernelspec": {
   "display_name": "base",
   "language": "python",
   "name": "python3"
  },
  "language_info": {
   "codemirror_mode": {
    "name": "ipython",
    "version": 3
   },
   "file_extension": ".py",
   "mimetype": "text/x-python",
   "name": "python",
   "nbconvert_exporter": "python",
   "pygments_lexer": "ipython3",
   "version": "3.12.7"
  }
 },
 "nbformat": 4,
 "nbformat_minor": 5
}

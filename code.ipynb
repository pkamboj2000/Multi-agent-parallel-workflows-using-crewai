{
 "cells": [
  {
   "cell_type": "markdown",
   "id": "667e140a",
   "metadata": {},
   "source": [
    "## Import Libraries"
   ]
  },
  {
   "cell_type": "code",
   "execution_count": 1,
   "id": "18da65bf",
   "metadata": {},
   "outputs": [],
   "source": [
    "import os\n",
    "from crewai import Agent, Task, Crew, Process\n",
    "from crewai.flow.flow import Flow, start, listen  \n",
    "from langchain_community.tools import DuckDuckGoSearchRun\n",
    "import textwrap\n",
    "\n"
   ]
  },
  {
   "cell_type": "markdown",
   "id": "6355dd35",
   "metadata": {},
   "source": [
    "## Load the  LLM\n"
   ]
  },
  {
   "cell_type": "code",
   "execution_count": 2,
   "id": "ed4ff090",
   "metadata": {},
   "outputs": [],
   "source": [
    "from crewai import LLM\n",
    "import os\n",
    "\n",
    "llm = LLM(\n",
    "    model=\"groq/qwen/qwen3-32b\",\n",
    "    api_key=os.getenv(\"GROQ_API_KEY\").strip(),\n",
    "    api_base=\"https://api.groq.com/openai/v1\",\n",
    "    temperature=0.2,\n",
    "    max_tokens=200,      # smaller response size → fewer 502 errors\n",
    "    num_retries=6,       # more retries on failure\n",
    "    request_timeout=90   # allow more time before giving up\n",
    ")"
   ]
  },
  {
   "cell_type": "markdown",
   "id": "c5ec0def",
   "metadata": {},
   "source": [
    "## Load Tools"
   ]
  },
  {
   "cell_type": "code",
   "execution_count": 3,
   "id": "4025ef7a",
   "metadata": {},
   "outputs": [],
   "source": [
    "import time\n",
    "import random\n",
    "from crewai.tools import tool\n",
    "from langchain_community.tools import DuckDuckGoSearchRun\n",
    "\n",
    "@tool(\"DuckDuckGo Search\")\n",
    "def search_tool1(query: str) -> str:\n",
    "    \"\"\"Searches the web using DuckDuckGo.\"\"\"\n",
    "    time.sleep(1.0 + random.random()*0.5) \n",
    "    return DuckDuckGoSearchRun().run(query)\n",
    "\n"
   ]
  },
  {
   "cell_type": "code",
   "execution_count": 4,
   "id": "7ff5ea73",
   "metadata": {},
   "outputs": [],
   "source": [
    "topic = \"2024 Honda Civic review\""
   ]
  },
  {
   "cell_type": "code",
   "execution_count": 5,
   "id": "294c40c4",
   "metadata": {},
   "outputs": [],
   "source": [
    "# -------- Agents (text-only reviewers) --------\n",
    "reviewer1 = Agent(\n",
    "    role=\"Reviewer A (Edmunds bias)\",\n",
    "    goal=\"Search Edmunds for the topic and extract concise pros/cons.\",\n",
    "    backstory=\"Automotive editor who summarizes objectively.\",\n",
    "    tools=[search_tool1],\n",
    "    llm=llm,\n",
    "    allow_delegation=False, \n",
    "    verbose=False  \n",
    "\n",
    ")\n",
    "\n",
    "reviewer2 = Agent(\n",
    "    role=\"Reviewer B (Car and Driver bias)\",\n",
    "    goal=\"Search Car and Driver for the topic and extract concise pros/cons.\",\n",
    "    backstory=\"Performance-focused reviewer with balanced takes.\",\n",
    "    tools=[search_tool1],\n",
    "    llm=llm,\n",
    "    allow_delegation=False, \n",
    "    verbose=False\n",
    ")\n",
    "\n",
    "reviewer3 = Agent(\n",
    "    role=\"Reviewer C (Top Gear / other mags bias)\",\n",
    "    goal=\"Search Top Gear or other reputable magazines and extract concise pros/cons.\",\n",
    "    backstory=\"Keeps things practical for buyers.\",\n",
    "    tools=[search_tool1],\n",
    "    llm=llm,\n",
    "    allow_delegation=False, \n",
    "    verbose=False\n",
    ")\n",
    "\n",
    "synthesizer = Agent(\n",
    "    role=\"Final Synthesizer\",\n",
    "    goal=\"Merge the three reviewer notes into one clear, non-redundant verdict.\",\n",
    "    backstory=\"Senior editor who reconciles differing opinions.\",\n",
    "    tools=[],  # no web/tools; purely synthesis\n",
    "    llm=llm,\n",
    "    allow_delegation=False, \n",
    "    verbose=False\n",
    ")\n"
   ]
  },
  {
   "cell_type": "code",
   "execution_count": 6,
   "id": "f2f5aee2",
   "metadata": {},
   "outputs": [
    {
     "data": {
      "text/markdown": [
       "### 0: Task 0\n",
       "\n",
       "<think>\n",
       "Okay, I need to find the 2024 Honda Civic review from Edmunds.com. The user wants five bullets, a verdict, and one or two links. Let me start by using the DuckDuckGo search tool to look for \"edmunds.com 2024 Honda Civic review\". \n",
       "\n",
       "First, I'll perform the search. The query should bring up Edmunds' review. Let me check the results. The first link seems to be the Edmunds review for the 2024 Honda Civic. I'll click on that.\n",
       "\n",
       "Looking at the page, I need to extract the pros and cons. The review might have a section with key takeaways. Let me scan through. They mention the Civic's reliability, fuel efficiency, tech features, driving experience, and maybe some cons like interior materials. Wait, the user wants five bullets. Let me confirm each point.\n",
       "\n",
       "Pros: Reliability, fuel efficiency (like 32 mpg combined),"
      ],
      "text/plain": [
       "<IPython.core.display.Markdown object>"
      ]
     },
     "metadata": {},
     "output_type": "display_data"
    },
    {
     "data": {
      "text/markdown": [
       "### 1: Task 1\n",
       "\n",
       "<think>\n",
       "Okay, I need to find a 2024 Honda Civic review from caranddriver.com. Let me start by using DuckDuckGo to search for that. The user wants 5 bullets, a verdict, and 1-2 links. \n",
       "\n",
       "First, I'll search for \"2024 Honda Civic review site:caranddriver.com\". That should bring up reviews from the correct site. Let me check the results.\n",
       "\n",
       "Looking at the first link, it's a review from Car and Driver. Let me open that. The review mentions the Civic's improved interior, available hybrid option, responsive engine, tech features, and handling. The verdict says it's a strong contender. \n",
       "\n",
       "I need to extract five pros/cons as bullets. The review highlights the cabin's materials, the 1.5T engine's performance, the hybrid's efficiency, tech like the infotainment system, and the ride quality. The verdict is positive, noting it's a"
      ],
      "text/plain": [
       "<IPython.core.display.Markdown object>"
      ]
     },
     "metadata": {},
     "output_type": "display_data"
    },
    {
     "data": {
      "text/markdown": [
       "### 2: Task 2\n",
       "\n",
       "<think>\n",
       "Okay, I need to find a 2024 Honda Civic review from Top Gear, Autocar, or What Car. Let me start by using the DuckDuckGo search tool. The user wants 5 bullets, a verdict, and 1-2 links. \n",
       "\n",
       "First, I'll search for \"2024 Honda Civic review site:topgear.com OR site:autocar.co.uk OR site:whatcar.com\". That should narrow down the results to the specified sites. Let me check the first result.\n",
       "\n",
       "The first link is from Top Gear. Let me read through their review. They mention the Civic's driving dynamics, interior tech, fuel efficiency, pricing, and some cons like the infotainment system. That's a good start for the bullets. \n",
       "\n",
       "Next, I need to verify if there's another review from another site. Let me check Autocar. They highlight the Civic's handling, engine options, interior quality, safety features"
      ],
      "text/plain": [
       "<IPython.core.display.Markdown object>"
      ]
     },
     "metadata": {},
     "output_type": "display_data"
    },
    {
     "data": {
      "text/markdown": [
       "### 3: Task 3\n",
       "\n",
       "<think>\n",
       "Okay, I need to combine the three reviewer outputs into a final answer. Let me start by looking at each reviewer's notes to identify common points and differences.\n",
       "\n",
       "First, the three reviewers are Edmunds, Car and Driver, and Top Gear. Each has their own pros and cons. Let me list out the key points from each.\n",
       "\n",
       "Edmunds mentions reliability, fuel efficiency (32 mpg), tech features like the infotainment system, driving experience with the 1.5T engine, and interior materials as a con. Car and Driver highlights the improved interior, 1.5T engine performance, hybrid option, tech features, and ride quality. Top Gear talks about driving dynamics, interior tech, fuel efficiency, pricing, and infotainment system as a con.\n",
       "\n",
       "Now, I need to find consensus bullets. Let's see what all three agree on. Fuel efficiency is mentioned by all three. Tech features like infotainment are also common. The 1.5"
      ],
      "text/plain": [
       "<IPython.core.display.Markdown object>"
      ]
     },
     "metadata": {},
     "output_type": "display_data"
    },
    {
     "name": "stderr",
     "output_type": "stream",
     "text": [
      "HTTPSConnectionPool(host='telemetry.crewai.com', port=4319): Max retries exceeded with url: /v1/traces (Caused by ConnectTimeoutError(<urllib3.connection.HTTPSConnection object at 0x11f954140>, 'Connection to telemetry.crewai.com timed out. (connect timeout=29.999996185302734)'))\n"
     ]
    }
   ],
   "source": [
    "# --- 3 retriever agents (already defined as reviewer1, reviewer2, reviewer3) ---\n",
    "# --- 1 summarizer agent (reviewer4 or synthesizer) ---\n",
    "\n",
    "# Tasks for the three retrievers\n",
    "t1 = Task(\n",
    "    description=f\"Topic: {topic}\\nSearch site:edmunds.com {topic}. \"\n",
    "                \"Return 5 bullets + 1 verdict + 1–2 links (plain URLs).\",\n",
    "    agent=reviewer1,\n",
    "    expected_output=\"5 bullets + verdict + links\"\n",
    ")\n",
    "t2 = Task(\n",
    "    description=f\"Topic: {topic}\\nSearch site:caranddriver.com {topic}. \"\n",
    "                \"Return 5 bullets + 1 verdict + 1–2 links (plain URLs).\",\n",
    "    agent=reviewer2,\n",
    "    expected_output=\"5 bullets + verdict + links\"\n",
    ")\n",
    "t3 = Task(\n",
    "    description=f\"Topic: {topic}\\nSearch (site:topgear.com OR site:autocar.co.uk OR site:whatcar.com) {topic}. \"\n",
    "                \"Return 5 bullets + 1 verdict + 1–2 links (plain URLs).\",\n",
    "    agent=reviewer3,\n",
    "    expected_output=\"5 bullets + verdict + links\"\n",
    ")\n",
    "\n",
    "# Run ONLY the three retrievers in PARALLEL\n",
    "t1.async_execution = True\n",
    "t2.async_execution = True\n",
    "t3.async_execution = True\n",
    "\n",
    "# Final summarizer task (sequential) that COMBINES t1+t2+t3\n",
    "t_final = Task(\n",
    "    description=(\n",
    "        \"Combine the three reviewer outputs (given in context) into:\\n\"\n",
    "        \"- 4–6 consensus bullets (no duplicates)\\n\"\n",
    "        \"- One verdict paragraph (3–5 sentences) for buyers\\n\"\n",
    "        \"- 'Where reviewers agree' and 'Where they differ' (1–2 bullets each)\\n\"\n",
    "        \"Keep it neutral, specific, and text-only.\"\n",
    "    ),\n",
    "    agent=synthesizer,           # your 4th agent\n",
    "    expected_output=\"Bullets + verdict paragraph + agreement/differences\",\n",
    "    context=[t1, t2, t3]         # <-- this pulls outputs from the three retrievers\n",
    ")\n",
    "from IPython.display import display, Markdown\n",
    "\n",
    "# One crew: 3 parallel retrievers -> final sequential summarizer\n",
    "crew = Crew(\n",
    "    agents=[reviewer1, reviewer2, reviewer3, synthesizer],\n",
    "    tasks=[t1, t2, t3, t_final],   # final LAST\n",
    "    process=Process.sequential\n",
    ")\n",
    "\n",
    "result = crew.kickoff()\n",
    "\n",
    "# Show all outputs (retriever 1..3, then final) nicely in Jupyter\n",
    "outs = getattr(result, \"tasks_output\", []) or []\n",
    "for i, t in enumerate(outs):\n",
    "    role = getattr(getattr(t, \"agent\", None), \"role\", f\"Task {i}\")\n",
    "    body = getattr(t, \"raw\", None) or getattr(t, \"output\", None) or \"\"\n",
    "    display(Markdown(f\"### {i}: {role}\\n\\n{body}\"))"
   ]
  }
 ],
 "metadata": {
  "kernelspec": {
   "display_name": "base",
   "language": "python",
   "name": "python3"
  },
  "language_info": {
   "codemirror_mode": {
    "name": "ipython",
    "version": 3
   },
   "file_extension": ".py",
   "mimetype": "text/x-python",
   "name": "python",
   "nbconvert_exporter": "python",
   "pygments_lexer": "ipython3",
   "version": "3.12.7"
  }
 },
 "nbformat": 4,
 "nbformat_minor": 5
}

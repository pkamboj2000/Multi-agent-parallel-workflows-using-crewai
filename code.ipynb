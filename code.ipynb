{
 "cells": [
  {
   "cell_type": "markdown",
   "id": "667e140a",
   "metadata": {},
   "source": [
    "## Import Libraries"
   ]
  },
  {
   "cell_type": "code",
   "execution_count": 1,
   "id": "18da65bf",
   "metadata": {},
   "outputs": [],
   "source": [
    "import os\n",
    "from crewai import Agent, Task, Crew, Process\n",
    "from crewai.flow.flow import Flow, start, listen  \n",
    "from langchain_community.tools import DuckDuckGoSearchRun\n",
    "import textwrap\n",
    "\n"
   ]
  },
  {
   "cell_type": "markdown",
   "id": "555d8312",
   "metadata": {},
   "source": [
    "##  Disable CrewAI's telemetry to prevent data collection and errors"
   ]
  },
  {
   "cell_type": "code",
   "execution_count": 2,
   "id": "1f718be7",
   "metadata": {},
   "outputs": [],
   "source": [
    "os.environ[\"CREWAI_TELEMETRY\"] = \"false\"\n",
    "os.environ[\"CREWAI_TELEMETRY_DEBUG\"] = \"0\"  "
   ]
  },
  {
   "cell_type": "markdown",
   "id": "6355dd35",
   "metadata": {},
   "source": [
    "## Load the  LLM\n"
   ]
  },
  {
   "cell_type": "code",
   "execution_count": 3,
   "id": "ed4ff090",
   "metadata": {},
   "outputs": [],
   "source": [
    "from crewai import LLM\n",
    "\n",
    "\n",
    "llm = LLM(\n",
    "    model=\"groq/qwen/qwen3-32b\",\n",
    "    api_key=os.getenv(\"GROQ_API_KEY\"),\n",
    "    api_base=\"https://api.groq.com/openai/v1\",\n",
    "    temperature=0.2,\n",
    "    max_tokens=1000,\n",
    "    num_retries=5,\n",
    "    request_timeout=90\n",
    ")"
   ]
  },
  {
   "cell_type": "markdown",
   "id": "c5ec0def",
   "metadata": {},
   "source": [
    "## Load  DuckduckGo Search tool"
   ]
  },
  {
   "cell_type": "code",
   "execution_count": 4,
   "id": "4025ef7a",
   "metadata": {},
   "outputs": [],
   "source": [
    "import time\n",
    "import random\n",
    "from crewai.tools import tool\n",
    "from langchain_community.tools import DuckDuckGoSearchRun\n",
    "\n",
    "@tool(\"DuckDuckGo Search\")\n",
    "def search_tool1(query: str) -> str:\n",
    "    \"\"\"Searches the web using DuckDuckGo.\"\"\"\n",
    "    time.sleep(1.0 + random.random()*0.5) \n",
    "    return DuckDuckGoSearchRun().run(query)\n",
    "\n"
   ]
  },
  {
   "cell_type": "markdown",
   "id": "74b66d32",
   "metadata": {},
   "source": [
    "## Topic for the LLM"
   ]
  },
  {
   "cell_type": "code",
   "execution_count": 5,
   "id": "7ff5ea73",
   "metadata": {},
   "outputs": [],
   "source": [
    "topic = \"2024 Honda Civic review\""
   ]
  },
  {
   "cell_type": "markdown",
   "id": "6ef17651",
   "metadata": {},
   "source": [
    "## Defining all Agents"
   ]
  },
  {
   "cell_type": "code",
   "execution_count": 6,
   "id": "294c40c4",
   "metadata": {},
   "outputs": [],
   "source": [
    "# #  Agent 1: Reviewer A with an Edmunds bias\n",
    "reviewer1 = Agent(\n",
    "    role=\"Reviewer A (Edmunds bias)\",\n",
    "    goal=\"Search Edmunds for the topic and extract concise pros/cons.Only output the final answer without explaining the steps\",\n",
    "    backstory=\"Automotive editor who summarizes objectively.\",\n",
    "    tools=[search_tool1],\n",
    "    llm=llm,\n",
    "    allow_delegation=False, \n",
    "    verbose=False  \n",
    "\n",
    ")\n",
    "#  Agent 2: Reviewer B with a Car and Driver bias\n",
    "reviewer2 = Agent(\n",
    "    role=\"Reviewer B (Car and Driver bias)\",\n",
    "    goal=\"Search Car and Driver for the topic and extract concise pros/cons.Only output the final answer without explaining the steps\",\n",
    "    backstory=\"Performance-focused reviewer with balanced takes.\",\n",
    "    tools=[search_tool1],\n",
    "    llm=llm,\n",
    "    allow_delegation=False, \n",
    "    verbose=False\n",
    ")\n",
    "# Agent 3: Reviewer C with a Top Gear/other magazine bias\n",
    "reviewer3 = Agent(\n",
    "    role=\"Reviewer C (Top Gear / other mags bias)\",\n",
    "    goal=\"Search Top Gear or other reputable magazines and extract concise pros/cons.Only output the final answer without explaining the steps\",\n",
    "    backstory=\"Keeps things practical for buyers.\",\n",
    "    tools=[search_tool1],\n",
    "    llm=llm,\n",
    "    allow_delegation=False, \n",
    "    verbose=False\n",
    ")\n",
    "\n",
    "#  Agent 4: Final Synthesizer, to combine the findings\n",
    "synthesizer = Agent(\n",
    "    role=\"Final Synthesizer\",\n",
    "    goal=\"Merge the three reviewer notes into one clear, non-redundant verdict.Only output the final answer without explaining the steps\",\n",
    "    backstory=\"Senior editor who reconciles differing opinions.\",\n",
    "    tools=[],  # no web/tools; purely synthesis\n",
    "    llm=llm,\n",
    "    allow_delegation=False, \n",
    "    verbose=False\n",
    ")\n"
   ]
  },
  {
   "cell_type": "markdown",
   "id": "c7b819d8",
   "metadata": {},
   "source": [
    "## Giving tasks descriptions "
   ]
  },
  {
   "cell_type": "code",
   "execution_count": 7,
   "id": "f2f5aee2",
   "metadata": {},
   "outputs": [
    {
     "data": {
      "text/markdown": [
       "### 0: Task 0\n",
       "\n",
       "- Fuel-efficient with a 30-mpg highway rating and available hybrid model\n",
       "- Spacious interior with supportive seats and modern 12.3-inch digital gauge cluster\n",
       "- Smooth, refined ride with precise steering and agile handling\n",
       "- User-friendly infotainment system with Apple CarPlay and Android Auto\n",
       "- Competitive starting price with strong resale value\n",
       "\n",
       "Verdict: The 2024 Honda Civic delivers excellent fuel economy, a tech-rich interior, and agile handling, making it a top compact sedan choice for drivers who prioritize efficiency and driving dynamics.\n",
       "\n",
       "https://www.edmunds.com/2024-honda-civic-review-rating.html\n",
       "https://www.edmunds.com/honda/civic/"
      ],
      "text/plain": [
       "<IPython.core.display.Markdown object>"
      ]
     },
     "metadata": {},
     "output_type": "display_data"
    },
    {
     "data": {
      "text/markdown": [
       "### 1: Task 1\n",
       "\n",
       "**2024 Honda Civic Review (Car and Driver)**  \n",
       "- **Pros**: Punchy 1.5T turbo engine delivers 182 hp with smooth 10-speed automatic; EPA-estimated 32 mpg highway.  \n",
       "- **Cons**: Firm suspension prioritizes handling over comfort; base trims lack advanced safety tech.  \n",
       "- **Tech**: 7-inch digital gauge cluster, 9-inch infotainment with Apple CarPlay/Android Auto, and wireless charging.  \n",
       "- **Driving Dynamics**: Agile steering and precise handling make it a standout in its class.  \n",
       "- **Value**: Competitive pricing with a well-equipped EX trim offering most desired features.  \n",
       "**Verdict**: A well-rounded compact sedan that balances performance, efficiency, and tech—ideal for daily drivers seeking reliability.  \n",
       "**Links**:  \n",
       "https://www.caranddriver.com/honda/civic/reviews/2024-honda-civic-first-drive-review  \n",
       "https://www.caranddriver.com/honda/civic/reviews/2024-honda-civic-1-5t-review"
      ],
      "text/plain": [
       "<IPython.core.display.Markdown object>"
      ]
     },
     "metadata": {},
     "output_type": "display_data"
    },
    {
     "data": {
      "text/markdown": [
       "### 2: Task 2\n",
       "\n",
       "**2024 Honda Civic Review**  \n",
       "- **Pros**: Sharp handling and responsive steering; refined 1.5T turbo engine with smooth power delivery; high-quality interior with tech-rich infotainment; excellent fuel efficiency (up to 40 mpg); strong residual value.  \n",
       "- **Cons**: Fidgety ride on rough roads; cramped rear legroom for taller passengers; optional tech packages can inflate the price.  \n",
       "- **Verdict**: A well-rounded compact car with sporty dynamics and practicality, though comfort trade-offs may bother some.  \n",
       "\n",
       "Links:  \n",
       "https://www.topgear.com/car-reviews/honda/civic-2024-review  \n",
       "https://www.whatcar.com/reviews/honda/civic-2024-review"
      ],
      "text/plain": [
       "<IPython.core.display.Markdown object>"
      ]
     },
     "metadata": {},
     "output_type": "display_data"
    },
    {
     "data": {
      "text/markdown": [
       "### 3: Task 3\n",
       "\n",
       "**Consensus Bullets**  \n",
       "- Fuel-efficient with 30–40 mpg highway and a hybrid option for enhanced efficiency.  \n",
       "- Agile handling, precise steering, and sporty driving dynamics.  \n",
       "- Tech-focused interior featuring Apple CarPlay/Android Auto and modern infotainment (9-inch in higher trims).  \n",
       "- Competitive starting price, strong resale value, and well-equipped mid-trim EX model.  \n",
       "\n",
       "**Verdict**  \n",
       "The 2024 Honda Civic excels as a compact sedan with a balance of fuel efficiency, driving engagement, and tech features. Its 1.5T turbo engine delivers responsive power, while the refined interior and user-friendly infotainment cater to modern drivers. Though base trims lack advanced safety tech and rear legroom is limited for taller passengers, the Civic’s strong value proposition and sporty handling make it a top choice for those prioritizing performance and efficiency.  \n",
       "\n",
       "**Where Reviewers Agree**  \n",
       "- All praise the Civic’s fuel efficiency, driving dynamics, and tech features.  \n",
       "- Consensus on the 1.5T engine’s smooth power delivery and the vehicle’s strong resale value.  \n",
       "\n",
       "**Where They Differ**  \n",
       "- Edmunds and Car and Driver highlight a spacious interior, while Top Gear notes cramped rear legroom.  \n",
       "- Car and Driver emphasizes the firm suspension’s focus on handling, whereas Top Gear criticizes the ride quality on rough roads."
      ],
      "text/plain": [
       "<IPython.core.display.Markdown object>"
      ]
     },
     "metadata": {},
     "output_type": "display_data"
    },
    {
     "name": "stderr",
     "output_type": "stream",
     "text": [
      "HTTPSConnectionPool(host='telemetry.crewai.com', port=4319): Max retries exceeded with url: /v1/traces (Caused by ConnectTimeoutError(<urllib3.connection.HTTPSConnection object at 0x14dcac5f0>, 'Connection to telemetry.crewai.com timed out. (connect timeout=29.9999942779541)'))\n"
     ]
    }
   ],
   "source": [
    "\n",
    "\n",
    "# Tasks for the three retrievers\n",
    "t1 = Task(\n",
    "    description=f\"Topic: {topic}\\nSearch site:edmunds.com {topic}. \"\n",
    "                \"Return 5 bullets + 1 verdict + 1-2 links (plain URLs).\",\n",
    "    agent=reviewer1,\n",
    "    expected_output=\"5 bullets + verdict + links\"\n",
    ")\n",
    "t2 = Task(\n",
    "    description=f\"Topic: {topic}\\nSearch site:caranddriver.com {topic}. \"\n",
    "                \"Return 5 bullets + 1 verdict + 1-2 links (plain URLs).\",\n",
    "    agent=reviewer2,\n",
    "    expected_output=\"5 bullets + verdict + links\"\n",
    ")\n",
    "t3 = Task(\n",
    "    description=f\"Topic: {topic}\\nSearch (site:topgear.com OR site:autocar.co.uk OR site:whatcar.com) {topic}. \"\n",
    "                \"Return 5 bullets + 1 verdict + 1-2 links (plain URLs).\",\n",
    "    agent=reviewer3,\n",
    "    expected_output=\"5 bullets + verdict + links\"\n",
    ")\n",
    "\n",
    "# Running  ONLY the three retrievers in PARALLEL\n",
    "t1.async_execution = True\n",
    "t2.async_execution = True\n",
    "t3.async_execution = True\n",
    "\n",
    "# Final summarizer task (sequential) that COMBINES t1+t2+t3\n",
    "t_final = Task(\n",
    "    description=(\n",
    "        \"Combine the three reviewer outputs (given in context) into:\\n\"\n",
    "        \"- 4-6 consensus bullets (no duplicates)\\n\"\n",
    "        \"- One verdict paragraph (3-5 sentences) for buyers\\n\"\n",
    "        \"- 'Where reviewers agree' and 'Where they differ' (1-2 bullets each)\\n\"\n",
    "        \"Keep it neutral, specific, and text-only.\"\n",
    "    ),\n",
    "    agent=synthesizer,           #  4th agent\n",
    "    expected_output=\"Bullets + verdict paragraph + agreement/differences\",\n",
    "    context=[t1, t2, t3]         # this pulls outputs from the three retrievers\n",
    ")\n",
    "from IPython.display import display, Markdown\n",
    "\n",
    "# One crew: 3 parallel retrievers  final sequential summarizer\n",
    "crew = Crew(\n",
    "    agents=[reviewer1, reviewer2, reviewer3, synthesizer],\n",
    "    tasks=[t1, t2, t3, t_final],   # final LAST\n",
    "    process=Process.sequential,\n",
    "    verbose=False,\n",
    ")\n",
    "\n",
    "result = crew.kickoff()\n",
    "\n",
    "# Showing outputs \n",
    "outs = getattr(result, \"tasks_output\", []) or []\n",
    "for i, t in enumerate(outs):\n",
    "    role = getattr(getattr(t, \"agent\", None), \"role\", f\"Task {i}\")\n",
    "    body = getattr(t, \"raw\", None) or getattr(t, \"output\", None) or \"\"\n",
    "    display(Markdown(f\"### {i}: {role}\\n\\n{body}\"))"
   ]
  }
 ],
 "metadata": {
  "kernelspec": {
   "display_name": "base",
   "language": "python",
   "name": "python3"
  },
  "language_info": {
   "codemirror_mode": {
    "name": "ipython",
    "version": 3
   },
   "file_extension": ".py",
   "mimetype": "text/x-python",
   "name": "python",
   "nbconvert_exporter": "python",
   "pygments_lexer": "ipython3",
   "version": "3.12.7"
  }
 },
 "nbformat": 4,
 "nbformat_minor": 5
}

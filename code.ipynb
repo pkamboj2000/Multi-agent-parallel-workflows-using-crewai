{
 "cells": [
  {
   "cell_type": "markdown",
   "id": "667e140a",
   "metadata": {},
   "source": [
    "## Import Libraries"
   ]
  },
  {
   "cell_type": "code",
   "execution_count": 98,
   "id": "18da65bf",
   "metadata": {},
   "outputs": [],
   "source": [
    "import os\n",
    "from crewai import Agent, Task, Crew, Process\n",
    "from crewai.flow.flow import Flow, start, listen  \n",
    "from langchain_community.tools import DuckDuckGoSearchRun\n",
    "import textwrap\n",
    "\n"
   ]
  },
  {
   "cell_type": "markdown",
   "id": "555d8312",
   "metadata": {},
   "source": [
    "##  Disable CrewAI's telemetry to prevent data collection and errors"
   ]
  },
  {
   "cell_type": "code",
   "execution_count": 99,
   "id": "1f718be7",
   "metadata": {},
   "outputs": [],
   "source": [
    "import os\n",
    "os.environ[\"CREWAI_TELEMETRY\"] = \"false\"\n",
    "os.environ[\"CREWAI_TELEMETRY_DEBUG\"] = \"0\"  "
   ]
  },
  {
   "cell_type": "markdown",
   "id": "6355dd35",
   "metadata": {},
   "source": [
    "## Load the  LLM\n"
   ]
  },
  {
   "cell_type": "code",
   "execution_count": 100,
   "id": "ed4ff090",
   "metadata": {},
   "outputs": [],
   "source": [
    "from crewai import LLM\n",
    "import os\n",
    "\n",
    "llm = LLM(\n",
    "    model=\"groq/qwen/qwen3-32b\",\n",
    "    api_key=os.getenv(\"GROQ_API_KEY\"),\n",
    "    api_base=\"https://api.groq.com/openai/v1\",\n",
    "    temperature=0.2,\n",
    "    max_tokens=1000,\n",
    "    num_retries=5,\n",
    "    request_timeout=90\n",
    ")"
   ]
  },
  {
   "cell_type": "markdown",
   "id": "c5ec0def",
   "metadata": {},
   "source": [
    "## Load  DuckduckGo Search tool"
   ]
  },
  {
   "cell_type": "code",
   "execution_count": 101,
   "id": "4025ef7a",
   "metadata": {},
   "outputs": [],
   "source": [
    "import time\n",
    "import random\n",
    "from crewai.tools import tool\n",
    "from langchain_community.tools import DuckDuckGoSearchRun\n",
    "\n",
    "@tool(\"DuckDuckGo Search\")\n",
    "def search_tool1(query: str) -> str:\n",
    "    \"\"\"Searches the web using DuckDuckGo.\"\"\"\n",
    "    time.sleep(1.0 + random.random()*0.5) \n",
    "    return DuckDuckGoSearchRun().run(query)\n",
    "\n"
   ]
  },
  {
   "cell_type": "markdown",
   "id": "74b66d32",
   "metadata": {},
   "source": [
    "## Topic for the LLM"
   ]
  },
  {
   "cell_type": "code",
   "execution_count": 102,
   "id": "7ff5ea73",
   "metadata": {},
   "outputs": [],
   "source": [
    "topic = \"2024 Honda Civic review\""
   ]
  },
  {
   "cell_type": "markdown",
   "id": "6ef17651",
   "metadata": {},
   "source": [
    "## Defining all Agents"
   ]
  },
  {
   "cell_type": "code",
   "execution_count": null,
   "id": "294c40c4",
   "metadata": {},
   "outputs": [],
   "source": [
    "# # Define Agent 1: Reviewer A with an Edmunds bias\n",
    "reviewer1 = Agent(\n",
    "    role=\"Reviewer A (Edmunds bias)\",\n",
    "    goal=\"Search Edmunds for the topic and extract concise pros/cons.Only output the final answer without explaining the steps\",\n",
    "    backstory=\"Automotive editor who summarizes objectively.\",\n",
    "    tools=[search_tool1],\n",
    "    llm=llm,\n",
    "    allow_delegation=False, \n",
    "    verbose=False  \n",
    "\n",
    ")\n",
    "# Define Agent 2: Reviewer B with a Car and Driver bias\n",
    "reviewer2 = Agent(\n",
    "    role=\"Reviewer B (Car and Driver bias)\",\n",
    "    goal=\"Search Car and Driver for the topic and extract concise pros/cons.Only output the final answer without explaining the steps\",\n",
    "    backstory=\"Performance-focused reviewer with balanced takes.\",\n",
    "    tools=[search_tool1],\n",
    "    llm=llm,\n",
    "    allow_delegation=False, \n",
    "    verbose=False\n",
    ")\n",
    "# Define Agent 3: Reviewer C with a Top Gear/other magazine bias\n",
    "reviewer3 = Agent(\n",
    "    role=\"Reviewer C (Top Gear / other mags bias)\",\n",
    "    goal=\"Search Top Gear or other reputable magazines and extract concise pros/cons.Only output the final answer without explaining the steps\",\n",
    "    backstory=\"Keeps things practical for buyers.\",\n",
    "    tools=[search_tool1],\n",
    "    llm=llm,\n",
    "    allow_delegation=False, \n",
    "    verbose=False\n",
    ")\n",
    "\n",
    "# Define Agent 4: Final Synthesizer, to combine the findings\n",
    "synthesizer = Agent(\n",
    "    role=\"Final Synthesizer\",\n",
    "    goal=\"Merge the three reviewer notes into one clear, non-redundant verdict.Only output the final answer without explaining the steps\",\n",
    "    backstory=\"Senior editor who reconciles differing opinions.\",\n",
    "    tools=[],  # no web/tools; purely synthesis\n",
    "    llm=llm,\n",
    "    allow_delegation=False, \n",
    "    verbose=False\n",
    ")\n"
   ]
  },
  {
   "cell_type": "markdown",
   "id": "c7b819d8",
   "metadata": {},
   "source": [
    "## Giving tasks descriptions "
   ]
  },
  {
   "cell_type": "code",
   "execution_count": null,
   "id": "f2f5aee2",
   "metadata": {},
   "outputs": [
    {
     "data": {
      "text/markdown": [
       "### 0: Task 0\n",
       "\n",
       "- **Pros**: 1. Improved fuel efficiency with up to 32 mpg city/40 mpg highway. 2. Updated infotainment system with Apple CarPlay and Android Auto. 3. Enhanced safety features including Honda Sensing 3.0. 4. Comfortable ride quality and well-tuned suspension. 5. Spacious interior with high-quality materials. \n",
       "- **Cons**: 1. Base model lacks modern tech features. 2. Limited cargo space compared to competitors. 3. Harsh ride on lower-trim models. 4. Smaller trunk capacity. 5. Some plastic feels cheap in lower trims. \n",
       "- **Verdict**: The 2024 Honda Civic offers a balanced mix of efficiency, tech, and comfort, but higher trims are recommended for a premium experience. \n",
       "- **Links**: https://www.edmunds.com/2024-honda-civic-review-rating.html, https://www.edmunds.com/honda/civic/2024/"
      ],
      "text/plain": [
       "<IPython.core.display.Markdown object>"
      ]
     },
     "metadata": {},
     "output_type": "display_data"
    },
    {
     "data": {
      "text/markdown": [
       "### 1: Task 1\n",
       "\n",
       "**2024 Honda Civic Review**  \n",
       "- **Pros**: Sharper handling and revised suspension improve agility; new 1.5L turbo engine delivers 182 hp with better fuel efficiency; updated infotainment system with Apple CarPlay/Android Auto; available all-wheel drive enhances traction; sleeker design with LED lighting upgrades.  \n",
       "- **Cons**: Interior materials feel less premium than competitors; base model lacks advanced driver-assist features; rear seat legroom remains cramped for taller passengers; exhaust note is quieter compared to sportier rivals.  \n",
       "- **Verdict**: The 2024 Civic refines its strengths but lags in tech and comfort departments, making it a solid choice for drivers prioritizing practicality over luxury.  \n",
       "- **Links**: [Car and Driver 2024 Honda Civic Review](https://www.caranddriver.com/honda/civic/reviews/2024-honda-civic-review) [2024 Honda Civic First Drive](https://www.caranddriver.com/honda/civic/news/2024-honda-civic-first-drive)"
      ],
      "text/plain": [
       "<IPython.core.display.Markdown object>"
      ]
     },
     "metadata": {},
     "output_type": "display_data"
    },
    {
     "data": {
      "text/markdown": [
       "### 2: Task 2\n",
       "\n",
       "- **Pros**: Sharp handling and agile driving dynamics, updated interior with premium materials, efficient 1.5L turbocharged engine, improved infotainment system with Apple CarPlay/Android Auto, strong resale value. \n",
       "- **Cons**: Infotainment system can lag, rear legroom slightly cramped for taller passengers, higher price compared to some competitors, limited standard tech features in lower trims, some road noise at highway speeds. \n",
       "- **Verdict**: The 2024 Honda Civic remains a compelling choice for drivers who prioritize handling and reliability, though its infotainment and rear space may not match newer rivals. \n",
       "- **Links**: \n",
       "  https://www.topgear.com/car-reviews/honda/civic-2024 \n",
       "  https://www.autocar.co.uk/car-reviews/honda/civic-2024"
      ],
      "text/plain": [
       "<IPython.core.display.Markdown object>"
      ]
     },
     "metadata": {},
     "output_type": "display_data"
    },
    {
     "data": {
      "text/markdown": [
       "### 3: Task 3\n",
       "\n",
       "<think>\n",
       "Okay, let's tackle this. The user wants me to combine three reviewer outputs into a specific format. First, I need to extract the key points from each review.\n",
       "\n",
       "Looking at the first review, the pros include improved fuel efficiency, updated infotainment, enhanced safety features, comfortable ride, and spacious interior. Cons are base model lacking tech, limited cargo space, harsh ride on lower trims, small trunk, and cheap plastics. The verdict mentions a balanced mix but recommends higher trims.\n",
       "\n",
       "The second review highlights sharper handling, revised suspension, new turbo engine, updated infotainment, AWD, and sleek design. Cons are interior materials not premium, base lacks driver-assist, cramped rear legroom, and quieter exhaust. Their verdict says it's solid for practicality over luxury.\n",
       "\n",
       "Third review's pros are sharp handling, premium interior materials, efficient engine, improved infotainment, and strong resale. Cons include lagging infotainment, cramped rear, higher price, limited tech in lower trims, road noise. Verdict says it's good for handling and reliability but has some drawbacks.\n",
       "\n",
       "Now, I need to find consensus bullets. Let's see what's common across all three. All mention improved infotainment with Apple CarPlay/Android Auto. All note the 1.5L turbo engine's efficiency. Handling and driving dynamics are praised by all. Rear legroom issues are mentioned in all cons. Higher trims recommended for better experience.\n",
       "\n",
       "For the verdict paragraph, it should balance the positives and cons, highlighting efficiency, handling, and tech, while noting the need for higher trims and rear space issues.\n",
       "\n",
       "Agreement points: All agree on infotainment, engine efficiency, handling, rear legroom issues, and higher trims needed. Differences might be on interior materials (some say high-quality, others say less premium), and whether the exhaust note is an issue. Also, cargo space vs. resale value.\n",
       "\n",
       "Need to make sure bullets are non-redundant and specific. Let me check each point again to avoid duplicates. Also, the verdict should be concise, 3-5 sentences. Then list where they agree and differ. Keep it neutral and specific.\n",
       "</think>\n",
       "\n",
       "**Consensus Bullets**  \n",
       "- Updated infotainment system with Apple CarPlay and Android Auto integration.  \n",
       "- Improved 1.5L turbocharged engine offering 182 hp and enhanced fuel efficiency (32 mpg city/40 mpg highway).  \n",
       "- Sharper handling and refined driving dynamics with revised suspension.  \n",
       "- Rear legroom remains cramped for taller passengers.  \n",
       "- Higher trims recommended for premium materials, advanced safety tech, and comfort features.  \n",
       "\n",
       "**Verdict**  \n",
       "The 2024 Honda Civic delivers strong fuel efficiency, agile handling, and a tech-updated infotainment system, making it a practical choice for daily drivers. While its base models lack premium materials and advanced features, upgrading to higher trims addresses these gaps. However, rear space limitations and a lagging infotainment interface in lower trims may deter buyers prioritizing comfort and cutting-edge tech.  \n",
       "\n",
       "**Where Reviewers Agree**  \n",
       "- All praise the 1.5L turbo engine’s efficiency and power.  \n",
       "- Consensus on rear legroom being insufficient for taller passengers.  \n",
       "\n",
       "**Where They Differ**  \n",
       "- Disagreement on interior quality: some highlight high-quality materials, others note cheap plastics in lower trims.  \n",
       "- Varying opinions on exhaust note (one critic calls it quieter, another notes it’s less sporty)."
      ],
      "text/plain": [
       "<IPython.core.display.Markdown object>"
      ]
     },
     "metadata": {},
     "output_type": "display_data"
    },
    {
     "name": "stderr",
     "output_type": "stream",
     "text": [
      "HTTPSConnectionPool(host='telemetry.crewai.com', port=4319): Max retries exceeded with url: /v1/traces (Caused by ConnectTimeoutError(<urllib3.connection.HTTPSConnection object at 0x11ff29cd0>, 'Connection to telemetry.crewai.com timed out. (connect timeout=29.99999713897705)'))\n",
      "HTTPSConnectionPool(host='telemetry.crewai.com', port=4319): Max retries exceeded with url: /v1/traces (Caused by ConnectTimeoutError(<urllib3.connection.HTTPSConnection object at 0x11ff2aa80>, 'Connection to telemetry.crewai.com timed out. (connect timeout=29.999996185302734)'))\n"
     ]
    }
   ],
   "source": [
    "\n",
    "\n",
    "# Tasks for the three retrievers\n",
    "t1 = Task(\n",
    "    description=f\"Topic: {topic}\\nSearch site:edmunds.com {topic}. \"\n",
    "                \"Return 5 bullets + 1 verdict + 1-2 links (plain URLs).\",\n",
    "    agent=reviewer1,\n",
    "    expected_output=\"5 bullets + verdict + links\"\n",
    ")\n",
    "t2 = Task(\n",
    "    description=f\"Topic: {topic}\\nSearch site:caranddriver.com {topic}. \"\n",
    "                \"Return 5 bullets + 1 verdict + 1-2 links (plain URLs).\",\n",
    "    agent=reviewer2,\n",
    "    expected_output=\"5 bullets + verdict + links\"\n",
    ")\n",
    "t3 = Task(\n",
    "    description=f\"Topic: {topic}\\nSearch (site:topgear.com OR site:autocar.co.uk OR site:whatcar.com) {topic}. \"\n",
    "                \"Return 5 bullets + 1 verdict + 1-2 links (plain URLs).\",\n",
    "    agent=reviewer3,\n",
    "    expected_output=\"5 bullets + verdict + links\"\n",
    ")\n",
    "\n",
    "# Run ONLY the three retrievers in PARALLEL\n",
    "t1.async_execution = True\n",
    "t2.async_execution = True\n",
    "t3.async_execution = True\n",
    "\n",
    "# Final summarizer task (sequential) that COMBINES t1+t2+t3\n",
    "t_final = Task(\n",
    "    description=(\n",
    "        \"Combine the three reviewer outputs (given in context) into:\\n\"\n",
    "        \"- 4-6 consensus bullets (no duplicates)\\n\"\n",
    "        \"- One verdict paragraph (3-5 sentences) for buyers\\n\"\n",
    "        \"- 'Where reviewers agree' and 'Where they differ' (1-2 bullets each)\\n\"\n",
    "        \"Keep it neutral, specific, and text-only.\"\n",
    "    ),\n",
    "    agent=synthesizer,           # your 4th agent\n",
    "    expected_output=\"Bullets + verdict paragraph + agreement/differences\",\n",
    "    context=[t1, t2, t3]         # <-- this pulls outputs from the three retrievers\n",
    ")\n",
    "from IPython.display import display, Markdown\n",
    "\n",
    "# One crew: 3 parallel retrievers -> final sequential summarizer\n",
    "crew = Crew(\n",
    "    agents=[reviewer1, reviewer2, reviewer3, synthesizer],\n",
    "    tasks=[t1, t2, t3, t_final],   # final LAST\n",
    "    process=Process.sequential,\n",
    "    verbose=False,\n",
    ")\n",
    "\n",
    "result = crew.kickoff()\n",
    "\n",
    "# Show all outputs \n",
    "outs = getattr(result, \"tasks_output\", []) or []\n",
    "for i, t in enumerate(outs):\n",
    "    role = getattr(getattr(t, \"agent\", None), \"role\", f\"Task {i}\")\n",
    "    body = getattr(t, \"raw\", None) or getattr(t, \"output\", None) or \"\"\n",
    "    display(Markdown(f\"### {i}: {role}\\n\\n{body}\"))"
   ]
  }
 ],
 "metadata": {
  "kernelspec": {
   "display_name": "base",
   "language": "python",
   "name": "python3"
  },
  "language_info": {
   "codemirror_mode": {
    "name": "ipython",
    "version": 3
   },
   "file_extension": ".py",
   "mimetype": "text/x-python",
   "name": "python",
   "nbconvert_exporter": "python",
   "pygments_lexer": "ipython3",
   "version": "3.12.7"
  }
 },
 "nbformat": 4,
 "nbformat_minor": 5
}

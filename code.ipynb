{
 "cells": [
  {
   "cell_type": "markdown",
   "id": "667e140a",
   "metadata": {},
   "source": [
    "## Import Libraries"
   ]
  },
  {
   "cell_type": "code",
   "execution_count": 57,
   "id": "18da65bf",
   "metadata": {},
   "outputs": [],
   "source": [
    "import os\n",
    "from crewai import Agent, Task, Crew, Process\n",
    "from crewai.flow.flow import Flow, start, listen  \n",
    "from langchain_community.tools import DuckDuckGoSearchRun\n",
    "import textwrap\n",
    "\n"
   ]
  },
  {
   "cell_type": "markdown",
   "id": "555d8312",
   "metadata": {},
   "source": [
    "##  Disable CrewAI's telemetry to prevent data collection and errors"
   ]
  },
  {
   "cell_type": "code",
   "execution_count": 58,
   "id": "1f718be7",
   "metadata": {},
   "outputs": [],
   "source": [
    "os.environ[\"CREWAI_TELEMETRY\"] = \"false\"\n",
    "os.environ[\"CREWAI_TELEMETRY_DEBUG\"] = \"0\"  "
   ]
  },
  {
   "cell_type": "markdown",
   "id": "6355dd35",
   "metadata": {},
   "source": [
    "## Load the  LLM\n"
   ]
  },
  {
   "cell_type": "code",
   "execution_count": 59,
   "id": "ed4ff090",
   "metadata": {},
   "outputs": [],
   "source": [
    "from crewai import LLM\n",
    "\n",
    "\n",
    "llm = LLM(\n",
    "    model=\"groq/qwen/qwen3-32b\",\n",
    "    api_key=os.getenv(\"GROQ_API_KEY\"),\n",
    "    api_base=\"https://api.groq.com/openai/v1\",\n",
    "    temperature=0.2,\n",
    "    max_tokens=1000,\n",
    "    num_retries=5,\n",
    "    request_timeout=90\n",
    ")"
   ]
  },
  {
   "cell_type": "markdown",
   "id": "c5ec0def",
   "metadata": {},
   "source": [
    "## Load  DuckduckGo Search tool"
   ]
  },
  {
   "cell_type": "code",
   "execution_count": 60,
   "id": "4025ef7a",
   "metadata": {},
   "outputs": [],
   "source": [
    "import time\n",
    "import random\n",
    "from crewai.tools import tool\n",
    "from langchain_community.tools import DuckDuckGoSearchRun\n",
    "\n",
    "@tool(\"DuckDuckGo Search\")\n",
    "def search_tool1(query: str) -> str:\n",
    "    \"\"\"Searches the web using DuckDuckGo.\"\"\"\n",
    "    time.sleep(1.0 + random.random()*0.5) \n",
    "    return DuckDuckGoSearchRun().run(query)\n",
    "\n"
   ]
  },
  {
   "cell_type": "markdown",
   "id": "74b66d32",
   "metadata": {},
   "source": [
    "## Topic for the LLM"
   ]
  },
  {
   "cell_type": "code",
   "execution_count": 61,
   "id": "7ff5ea73",
   "metadata": {},
   "outputs": [],
   "source": [
    "topic = \"2024 Honda Civic review\""
   ]
  },
  {
   "cell_type": "markdown",
   "id": "6ef17651",
   "metadata": {},
   "source": [
    "## Defining all Agents"
   ]
  },
  {
   "cell_type": "code",
   "execution_count": 62,
   "id": "294c40c4",
   "metadata": {},
   "outputs": [],
   "source": [
    "# #  Agent 1: Reviewer A with an Edmunds bias\n",
    "reviewer1 = Agent(\n",
    "    role=\"Reviewer A (Edmunds bias)\",\n",
    "    goal=\"Search Edmunds for the topic and extract concise pros/cons.Only output the final answer without explaining the steps\",\n",
    "    backstory=\"Automotive editor who summarizes objectively.\",\n",
    "    tools=[search_tool1],\n",
    "    llm=llm,\n",
    "    allow_delegation=False, \n",
    "    verbose=False  \n",
    "\n",
    ")\n",
    "#  Agent 2: Reviewer B with a Car and Driver bias\n",
    "reviewer2 = Agent(\n",
    "    role=\"Reviewer B (Car and Driver bias)\",\n",
    "    goal=\"Search Car and Driver for the topic and extract concise pros/cons.Only output the final answer without explaining the steps\",\n",
    "    backstory=\"Performance-focused reviewer with balanced takes.\",\n",
    "    tools=[search_tool1],\n",
    "    llm=llm,\n",
    "    allow_delegation=False, \n",
    "    verbose=False\n",
    ")\n",
    "# Agent 3: Reviewer C with a Top Gear/other magazine bias\n",
    "reviewer3 = Agent(\n",
    "    role=\"Reviewer C (Top Gear / other mags bias)\",\n",
    "    goal=\"Search Top Gear or other reputable magazines and extract concise pros/cons.Only output the final answer without explaining the steps\",\n",
    "    backstory=\"Keeps things practical for buyers.\",\n",
    "    tools=[search_tool1],\n",
    "    llm=llm,\n",
    "    allow_delegation=False, \n",
    "    verbose=False\n",
    ")\n",
    "\n",
    "#  Agent 4: Final Synthesizer, to combine the findings\n",
    "synthesizer = Agent(\n",
    "    role=\"Final Synthesizer\",\n",
    "    goal=\"Merge the three reviewer notes into one clear, non-redundant verdict.Only output the final answer without explaining the steps\",\n",
    "    backstory=\"Senior editor who reconciles differing opinions.\",\n",
    "    tools=[],  # no web/tools; purely synthesis\n",
    "    llm=llm,\n",
    "    allow_delegation=False, \n",
    "    verbose=False\n",
    ")\n"
   ]
  },
  {
   "cell_type": "markdown",
   "id": "c7b819d8",
   "metadata": {},
   "source": [
    "## Giving tasks descriptions "
   ]
  },
  {
   "cell_type": "code",
   "execution_count": 63,
   "id": "f2f5aee2",
   "metadata": {},
   "outputs": [
    {
     "data": {
      "text/markdown": [
       "### 0: Task 0\n",
       "\n",
       "- **Fuel Efficiency**: Up to 32 mpg on the highway, making it one of the most efficient compact cars.  \n",
       "- **Tech & Features**: Standard Apple CarPlay, Android Auto, and a 7-inch touchscreen with optional upgrades to 12.3-inch displays.  \n",
       "- **Driving Experience**: Peppy 2.0L engine (160 hp) with smooth CVT transmission and responsive handling.  \n",
       "- **Interior Comfort**: Roomy cabin with supportive seats and decent cargo space for its class.  \n",
       "- **Reliability**: Strong build quality and a 10-year/100,000-mile powertrain warranty.  \n",
       "\n",
       "**Verdict**: The 2024 Honda Civic remains a top compact car choice, balancing efficiency, tech, and practicality.  \n",
       "\n",
       "**Links**:  \n",
       "https://www.edmunds.com/2024-honda-civic-review-rating/  \n",
       "https://www.edmunds.com/honda-civic/"
      ],
      "text/plain": [
       "<IPython.core.display.Markdown object>"
      ]
     },
     "metadata": {},
     "output_type": "display_data"
    },
    {
     "data": {
      "text/markdown": [
       "### 1: Task 1\n",
       "\n",
       "**2024 Honda Civic Review (Car and Driver):**  \n",
       "- **Pros:** Improved 1.5L turbo engine delivers 182 hp, refined 10-speed automatic transmission, enhanced interior tech with 12.3-inch digital gauge cluster, sharper handling with updated suspension, and competitive starting price.  \n",
       "- **Cons:** Rear seat legroom remains tight, base model lacks advanced driver-assist features, plastic-heavy interior feels less premium, exhaust note is less engaging compared to competitors, and optional tech packages add significant cost.  \n",
       "- **Verdict:** The 2024 Civic offers strong performance and value but falls short in cabin comfort and tech integration. A solid choice for drivers prioritizing efficiency and handling.  \n",
       "- **Links:**  \n",
       "  https://www.caranddriver.com/honda/civic/reviews/2024-honda-civic-first-drive-review  \n",
       "  https://www.caranddriver.com/honda/civic/reviews/2024-honda-civic-ultimate-review"
      ],
      "text/plain": [
       "<IPython.core.display.Markdown object>"
      ]
     },
     "metadata": {},
     "output_type": "display_data"
    },
    {
     "data": {
      "text/markdown": [
       "### 2: Task 2\n",
       "\n",
       "- **Responsive 1.5T engine** with smooth 10-speed auto transmission, delivering brisk acceleration and efficiency.  \n",
       "- **Sharp handling** and well-tuned suspension make it a joy to drive, with precise steering and minimal body roll.  \n",
       "- **Modern tech suite** includes a 10.2-inch touchscreen, Apple CarPlay/Android Auto, and driver-assist features.  \n",
       "- **Roomy and practical interior** with quality materials, though rear legroom is slightly compromised by sporty seating.  \n",
       "- **Impressive fuel economy** (up to 40 mpg combined) and low emissions for a sporty compact.  \n",
       "\n",
       "**Verdict**: The 2024 Honda Civic strikes a near-perfect balance between driving fun, tech, and practicality—still the benchmark for compact sedans.  \n",
       "\n",
       "https://www.topgear.com/car-reviews/honda/civic-2024-review  \n",
       "https://www.autocar.co.uk/car-reviews/honda/civic-2024"
      ],
      "text/plain": [
       "<IPython.core.display.Markdown object>"
      ]
     },
     "metadata": {},
     "output_type": "display_data"
    },
    {
     "data": {
      "text/markdown": [
       "### 3: Task 3\n",
       "\n",
       "<think>\n",
       "Okay, let's tackle this. The user wants me to combine three reviewer notes into a structured answer with consensus bullets, a verdict paragraph, and sections on agreement and differences. First, I need to parse each review's key points.\n",
       "\n",
       "Starting with the context provided: Fuel efficiency up to 32 mpg, tech features like Apple CarPlay, a 2.0L engine, interior comfort, and reliability with a 10-year warranty. The initial verdict says it's a top compact car.\n",
       "\n",
       "Now, the Car and Driver review mentions a 1.5L turbo engine with 182 hp, 10-speed auto, improved interior tech, sharper handling, but points out tight rear legroom and lack of driver-assist in base models. Their verdict is positive on performance and value but notes shortcomings in comfort and tech.\n",
       "\n",
       "The third review (from Top Gear?) highlights the 1.5T engine, sharp handling, modern tech, roomy interior with some compromises on rear legroom, and 40 mpg combined. Their verdict is that it balances driving fun, tech, and practicality.\n",
       "\n",
       "Looking for consensus bullets: All three mention improved engine performance (either 1.5L turbo or 2.0L), tech features like Apple CarPlay, handling improvements, fuel efficiency (32-40 mpg), and some mention of interior comfort. The 10-speed transmission is mentioned in Car and Driver and the third review. The 10-year warranty is in the context but not in the other reviews, so maybe not consensus. Need to check if that's part of the context or not. The context includes a 10-year/100k powertrain warranty, but the other reviews don't mention it. Since the user wants consensus bullets, maybe only include those mentioned in all three reviews. Wait, the context is part of the input, so maybe the three reviews are the ones from Edmunds, Car and Driver, and Top Gear. The context's info is part of the given data. Hmm, the user says \"three reviewer outputs\" but the context includes the initial criteria and then three separate reviews. Wait, the user provided three different reviews: the first is the context (Edmunds), then Car and Driver, then Top Gear. So the three reviews are Edmunds, Car and Driver, and Top Gear. So need to check which points are common across all three.\n",
       "\n",
       "Looking for consensus bullets:\n",
       "\n",
       "1. Engine: All three mention improved engine performance. Edmunds says 2.0L 160hp, Car and Driver 1.5L turbo 182hp, Top Gear 1.5T. So maybe \"Improved engine options (1.5L turbo and 2.0L) with enhanced power and efficiency.\"\n",
       "\n",
       "2. Transmission: Car and Driver and Top Gear mention 10-speed auto, Edmunds mentions CVT. So maybe not consensus on transmission type. Hmm. Maybe not include transmission in consensus.\n",
       "\n",
       "3. Tech: All three mention Apple CarPlay and Android Auto. Car and Driver mentions 12.3-inch digital cluster as optional, Top Gear mentions 10.2-inch touchscreen. Edmunds mentions 7-inch standard with optional 12.3. So consensus on tech features like smartphone integration.\n",
       "\n",
       "4. Handling: All three mention improved handling. Car and Driver says sharper with updated suspension, Top Gear says sharp handling and well-tuned suspension, Edmunds says responsive handling. So consensus on handling.\n",
       "\n",
       "5. Fuel economy: All three mention high mpg (32-40). So consensus on fuel efficiency.\n",
       "\n",
       "6. Interior comfort: Edmunds says roomy, Car and Driver mentions tight rear legroom, Top Gear says roomy but compromised rear legroom. So maybe not consensus. But maybe \"Roomy and practical interior with some compromises in rear legroom.\"\n",
       "\n",
       "Wait, need to check if all three mention interior comfort. Edmunds says roomy cabin, Car and Driver says tight rear legroom, Top Gear says roomy but compromised. So maybe consensus on interior being practical but with rear legroom issues. So that could be a bullet.\n",
       "\n",
       "So possible consensus bullets:\n",
       "\n",
       "- Improved engine options (1.5L turbo and 2.0L) with enhanced power and efficiency.\n",
       "- Standard Apple CarPlay and Android Auto with optional larger touchscreen/digital gauge clusters.\n",
       "- Sharp handling and well-tuned suspension for responsive driving dynamics.\n",
       "- Impressive fuel economy (up to 40 mpg combined) with strong emissions performance.\n",
       "- Roomy and practical interior with supportive seating, though rear legroom is limited in some trims.\n",
       "\n",
       "Verdict paragraph needs to be a synthesis of all three verdicts. The initial context's verdict says it's a top choice balancing efficiency, tech, practicality. Car and Driver says strong performance and value but lacks in comfort and tech. Top Gear says"
      ],
      "text/plain": [
       "<IPython.core.display.Markdown object>"
      ]
     },
     "metadata": {},
     "output_type": "display_data"
    }
   ],
   "source": [
    "\n",
    "\n",
    "# Tasks for the three retrievers\n",
    "t1 = Task(\n",
    "    description=f\"Topic: {topic}\\nSearch site:edmunds.com {topic}. \"\n",
    "                \"Return 5 bullets + 1 verdict + 1-2 links (plain URLs).\",\n",
    "    agent=reviewer1,\n",
    "    expected_output=\"5 bullets + verdict + links\"\n",
    ")\n",
    "t2 = Task(\n",
    "    description=f\"Topic: {topic}\\nSearch site:caranddriver.com {topic}. \"\n",
    "                \"Return 5 bullets + 1 verdict + 1-2 links (plain URLs).\",\n",
    "    agent=reviewer2,\n",
    "    expected_output=\"5 bullets + verdict + links\"\n",
    ")\n",
    "t3 = Task(\n",
    "    description=f\"Topic: {topic}\\nSearch (site:topgear.com OR site:autocar.co.uk OR site:whatcar.com) {topic}. \"\n",
    "                \"Return 5 bullets + 1 verdict + 1-2 links (plain URLs).\",\n",
    "    agent=reviewer3,\n",
    "    expected_output=\"5 bullets + verdict + links\"\n",
    ")\n",
    "\n",
    "# Running  ONLY the three retrievers in PARALLEL\n",
    "t1.async_execution = True\n",
    "t2.async_execution = True\n",
    "t3.async_execution = True\n",
    "\n",
    "# Final summarizer task (sequential) that COMBINES t1+t2+t3\n",
    "t_final = Task(\n",
    "    description=(\n",
    "        \"Combine the three reviewer outputs (given in context) into:\\n\"\n",
    "        \"- 4-6 consensus bullets (no duplicates)\\n\"\n",
    "        \"- One verdict paragraph (3-5 sentences) for buyers\\n\"\n",
    "        \"- 'Where reviewers agree' and 'Where they differ' (1-2 bullets each)\\n\"\n",
    "        \"Keep it neutral, specific, and text-only.\"\n",
    "    ),\n",
    "    agent=synthesizer,           #  4th agent\n",
    "    expected_output=\"Bullets + verdict paragraph + agreement/differences\",\n",
    "    context=[t1, t2, t3]         # this pulls outputs from the three retrievers\n",
    ")\n",
    "from IPython.display import display, Markdown\n",
    "\n",
    "# One crew: 3 parallel retrievers  final sequential summarizer\n",
    "crew = Crew(\n",
    "    agents=[reviewer1, reviewer2, reviewer3, synthesizer],\n",
    "    tasks=[t1, t2, t3, t_final],   # final LAST\n",
    "    process=Process.sequential,\n",
    "    verbose=False,\n",
    ")\n",
    "\n",
    "result = crew.kickoff()\n",
    "\n",
    "# Show all outputs \n",
    "outs = getattr(result, \"tasks_output\", []) or []\n",
    "for i, t in enumerate(outs):\n",
    "    role = getattr(getattr(t, \"agent\", None), \"role\", f\"Task {i}\")\n",
    "    body = getattr(t, \"raw\", None) or getattr(t, \"output\", None) or \"\"\n",
    "    display(Markdown(f\"### {i}: {role}\\n\\n{body}\"))"
   ]
  }
 ],
 "metadata": {
  "kernelspec": {
   "display_name": "base",
   "language": "python",
   "name": "python3"
  },
  "language_info": {
   "codemirror_mode": {
    "name": "ipython",
    "version": 3
   },
   "file_extension": ".py",
   "mimetype": "text/x-python",
   "name": "python",
   "nbconvert_exporter": "python",
   "pygments_lexer": "ipython3",
   "version": "3.12.7"
  }
 },
 "nbformat": 4,
 "nbformat_minor": 5
}

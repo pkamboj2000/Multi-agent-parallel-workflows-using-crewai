{
 "cells": [
  {
   "cell_type": "markdown",
   "id": "667e140a",
   "metadata": {},
   "source": [
    "## Import Libraries"
   ]
  },
  {
   "cell_type": "code",
   "execution_count": 1,
   "id": "18da65bf",
   "metadata": {},
   "outputs": [],
   "source": [
    "import os    # Need this for environment variables\n",
    "from crewai import Agent, Task, Crew,LLM    # Main CrewAI stuff for building agents\n",
    "from langchain_community.tools import DuckDuckGoSearchRun   # For web searching\n",
    "import time    # For adding delays\n",
    "import random  # For random delays\n",
    "from crewai.tools import tool # To create custom tools\n",
    "from langchain_community.tools import DuckDuckGoSearchRun  # For web searching\n",
    "from concurrent.futures import ThreadPoolExecutor # For running agents at same time\n",
    "from IPython.display import display, Markdown # For showing results nicely\n",
    "\n",
    "\n"
   ]
  },
  {
   "cell_type": "markdown",
   "id": "555d8312",
   "metadata": {},
   "source": [
    "##  Disable CrewAI's telemetry to prevent data collection and errors"
   ]
  },
  {
   "cell_type": "code",
   "execution_count": 2,
   "id": "1f718be7",
   "metadata": {},
   "outputs": [],
   "source": [
    "os.environ[\"CREWAI_TELEMETRY\"] = \"false\"  # Turn off tracking\n",
    "os.environ[\"CREWAI_TELEMETRY_DEBUG\"] = \"0\"  # Turn off debug mode\n"
   ]
  },
  {
   "cell_type": "markdown",
   "id": "6355dd35",
   "metadata": {},
   "source": [
    "## Load the  LLM\n"
   ]
  },
  {
   "cell_type": "code",
   "execution_count": 3,
   "id": "ed4ff090",
   "metadata": {},
   "outputs": [],
   "source": [
    "llm = LLM(\n",
    "    model=\"groq/qwen/qwen3-32b\",  # Using Qwen model from Groq\n",
    "    api_key=os.getenv(\"GROQ_API_KEY\"),  # Get my API key from environment\n",
    "    api_base=\"https://api.groq.com/openai/v1\",  # Groq API endpoint\n",
    "    temperature=0.2,       # Keep responses focused, not too creative\n",
    "    max_tokens=1000,       # Limit response length\n",
    "    num_retries=5,         # Try 5 times if it fails\n",
    "    request_timeout=90     # Wait up to 90 seconds\n",
    ")"
   ]
  },
  {
   "cell_type": "markdown",
   "id": "c5ec0def",
   "metadata": {},
   "source": [
    "## Load  DuckduckGo Search tool"
   ]
  },
  {
   "cell_type": "code",
   "execution_count": 4,
   "id": "4025ef7a",
   "metadata": {},
   "outputs": [],
   "source": [
    "@tool(\"DuckDuckGo Search\")       # Create a custom search tool for agents\n",
    "def search_tool1(query: str) -> str:\n",
    "    \"\"\"Searches the web using DuckDuckGo.\"\"\"\n",
    "    time.sleep(1.0 + random.random()*0.5) # Add random delay to avoid getting blocked\n",
    "    return DuckDuckGoSearchRun().run(query)  # Do the actual search\n",
    "\n"
   ]
  },
  {
   "cell_type": "markdown",
   "id": "74b66d32",
   "metadata": {},
   "source": [
    "## Topic for the LLM"
   ]
  },
  {
   "cell_type": "code",
   "execution_count": 5,
   "id": "7ff5ea73",
   "metadata": {},
   "outputs": [],
   "source": [
    "topic = \"2024 Honda Civic review\"    # What we want to research"
   ]
  },
  {
   "cell_type": "markdown",
   "id": "6ef17651",
   "metadata": {},
   "source": [
    "## Defining all Agents"
   ]
  },
  {
   "cell_type": "code",
   "execution_count": 6,
   "id": "294c40c4",
   "metadata": {},
   "outputs": [],
   "source": [
    "# #  Agent 1: Reviewer A with an Edmunds bias\n",
    "reviewer1 = Agent(\n",
    "    role=\"Reviewer A (Edmunds bias)\",  # This agent focuses on Edmunds\n",
    "    goal=\"Search Edmunds for the topic and extract concise pros/cons.Only output the final answer without explaining the steps\", # What it should do\n",
    "    backstory=\"Automotive editor who summarizes objectively.\",  # Give it personality\n",
    "    tools=[search_tool1],  # Give it the search tool\n",
    "    llm=llm,   # Use our LLM\n",
    "    allow_delegation=False,  # Don't let it delegate to other agents\n",
    "    verbose=False   # Keep output clean\n",
    "\n",
    ")\n",
    "#  Agent 2: Reviewer B with a Car and Driver bias\n",
    "reviewer2 = Agent(\n",
    "    role=\"Reviewer B (Car and Driver bias)\",  # This one does Car and Driver\n",
    "    goal=\"Search Car and Driver for the topic and extract concise pros/cons.Only output the final answer without explaining the steps\",\n",
    "    backstory=\"Performance-focused reviewer with balanced takes.\",\n",
    "    tools=[search_tool1],\n",
    "    llm=llm,\n",
    "    allow_delegation=False, \n",
    "    verbose=False\n",
    ")\n",
    "# Agent 3: Reviewer C with a Top Gear/other magazine bias\n",
    "reviewer3 = Agent(\n",
    "    role=\"Reviewer C (Top Gear / other mags bias)\",  # This one does Top Gear etc\n",
    "    goal=\"Search Top Gear or other reputable magazines and extract concise pros/cons.Only output the final answer without explaining the steps\",\n",
    "    backstory=\"Keeps things practical for buyers.\",  # More practical focus\n",
    "    tools=[search_tool1],\n",
    "    llm=llm,\n",
    "    allow_delegation=False, \n",
    "    verbose=False\n",
    ")\n",
    "\n",
    "#  Agent 4: Final Synthesizer, to combine the findings\n",
    "synthesizer = Agent(\n",
    "    role=\"Final Synthesizer\",   # This guy combines everything\n",
    "    goal=\"Merge the three reviewer notes into one clear, non-redundant verdict.Only output the final answer without explaining the steps\",\n",
    "    backstory=\"Senior editor who reconciles differing opinions.\",   # The boss who makes final decisions\n",
    "    tools=[],  # no web/tools; purely synthesis\n",
    "    llm=llm,\n",
    "    allow_delegation=False, \n",
    "    verbose=False\n",
    ")\n"
   ]
  },
  {
   "cell_type": "markdown",
   "id": "c7b819d8",
   "metadata": {},
   "source": [
    "## Giving tasks descriptions "
   ]
  },
  {
   "cell_type": "code",
   "execution_count": 7,
   "id": "f2f5aee2",
   "metadata": {},
   "outputs": [
    {
     "data": {
      "text/markdown": [
       "### 0: Reviewer A (Edmunds bias)\n",
       "\n",
       "- **Engine Options**: The 2024 Honda Civic offers a 2.0L four-cylinder engine (158 hp) and a turbocharged 1.5L three-cylinder (182 hp), with the latter providing better fuel efficiency and responsiveness. \n",
       "- **Interior Tech**: Features a 7-inch digital gauge cluster, 9-inch infotainment system with Apple CarPlay/Android Auto, and Honda’s new Smart Device Link app for enhanced connectivity. \n",
       "- **Fuel Efficiency**: EPA-estimated 30 mpg city/38 mpg highway for the 2.0L model and 32/42 mpg for the turbocharged 1.5L, making it one of the most efficient in its class. \n",
       "- **Driving Experience**: Agile handling, precise steering, and a refined ride, though the 1.5T’s lower weight improves agility over the 2.0L model. \n",
       "- **Value**: Competitive pricing starting at $25,250 (MSRP), with a 10-year/100,000-mile powertrain warranty and strong resale value. \n",
       "\n",
       "**Verdict**: The 2024 Honda Civic remains a top compact car choice, balancing performance, tech, and efficiency, though the 1.5T model is recommended for most buyers. \n",
       "\n",
       "**Links**: \n",
       "https://www.edmunds.com/2024-honda-civic-review-rating-1968795.html\n",
       "https://www.edmunds.com/honda/civic/2024/reviews/"
      ],
      "text/plain": [
       "<IPython.core.display.Markdown object>"
      ]
     },
     "metadata": {},
     "output_type": "display_data"
    },
    {
     "data": {
      "text/markdown": [
       "### 1: Reviewer B (Car and Driver bias)\n",
       "\n",
       "- **Improved Fuel Efficiency**: The 2024 Honda Civic offers better fuel economy, with the base model achieving up to 32 mpg city and 42 mpg highway. \n",
       "- **Updated Tech Features**: New infotainment system with Apple CarPlay, Android Auto, and a 10.2-inch touchscreen on higher trims. \n",
       "- **Refined Ride and Handling**: Enhanced suspension tuning provides a smoother ride without sacrificing the Civic’s sharp handling. \n",
       "- **Comfortable Interior**: Spacious cabin with supportive seats and improved noise isolation for a more refined driving experience. \n",
       "- **Standard Safety Tech**: Includes Honda Sensing suite (adaptive cruise control, lane-keep assist, etc.) on all trims. \n",
       "\n",
       "**Verdict**: The 2024 Honda Civic remains a class leader, balancing practicality, efficiency, and driving dynamics, though its interior materials lag behind some competitors. \n",
       "\n",
       "https://www.caranddriver.com/honda/civic/2024 \n",
       "https://www.caranddriver.com/honda/civic/2024-honda-civic-first-drive-review"
      ],
      "text/plain": [
       "<IPython.core.display.Markdown object>"
      ]
     },
     "metadata": {},
     "output_type": "display_data"
    },
    {
     "data": {
      "text/markdown": [
       "### 2: Reviewer C (Top Gear / other mags bias)\n",
       "\n",
       "- Improved driving dynamics with responsive handling and a refined ride quality.\n",
       "- Modern interior featuring a user-friendly infotainment system and ample tech integration.\n",
       "- Efficient engine options, including a hybrid variant offering excellent fuel economy.\n",
       "- Competitive pricing with a well-equipped standard feature set for the segment.\n",
       "- Strong safety credentials with advanced driver-assistance technologies.\n",
       "\n",
       "Verdict: The 2024 Honda Civic continues to excel as a versatile, practical, and driver-focused compact car, balancing performance, technology, and value effectively.\n",
       "\n",
       "https://www.topgear.com/car-reviews/honda/civic-2024-review\n",
       "https://www.autocar.co.uk/car-reviews/honda/civic-2024"
      ],
      "text/plain": [
       "<IPython.core.display.Markdown object>"
      ]
     },
     "metadata": {},
     "output_type": "display_data"
    },
    {
     "data": {
      "text/markdown": [
       "### 3: Final Synthesizer\n",
       "\n",
       "<think>\n",
       "Okay, let's tackle this. I need to combine the three reviews into a concise summary with specific bullets, a verdict, and agreement/differences sections. First, I'll go through each review to extract the key points.\n",
       "\n",
       "Review 1 (Edmunds) mentions engine options, interior tech, fuel efficiency, driving experience, and value. They recommend the 1.5T model. Review 2 (Car & Driver) talks about improved fuel efficiency, updated tech, refined ride, comfortable interior, and standard safety. Review 3 (Top Gear) highlights driving dynamics, interior tech, efficient engines including hybrid, pricing, and safety.\n",
       "\n",
       "Looking for consensus points. All three mention fuel efficiency improvements. Tech features like Apple CarPlay and Android Auto are common. Driving dynamics and handling are praised by all. Safety tech is standard across the board. The 1.5L turbo engine is recommended by Edmunds, but others don't specify. Car & Driver and Top Gear mention interior materials lagging and hybrid options, which are differences.\n",
       "\n",
       "Now, the bullets need to be 4-6 without duplicates. Let's see: Fuel efficiency across all models, tech features with infotainment systems, driving dynamics, standard safety tech, and competitive pricing. That's five bullets. \n",
       "\n",
       "For the verdict, it should highlight the Civic's strengths in efficiency, tech, handling, and value, while noting the interior materials and engine recommendations. \n",
       "\n",
       "Agreement is on fuel efficiency, tech, handling, and safety. Differences are in interior materials vs. others, and engine preference (Edmunds vs. others). \n",
       "\n",
       "Need to make sure the verdict is concise and covers all points without being redundant. Also check for any missed details like hybrid in Review 3. Maybe include that in the differences under engine options. \n",
       "\n",
       "Double-check the links to ensure accuracy, but the user didn't ask for them in the final answer. Focus on the content. Make sure the bullets are specific and not overlapping. For example, Edmunds mentions 7-inch and 9-inch screens, while Car & Driver mentions 10.2-inch on higher trims. Combine them into a single bullet about infotainment systems with varying sizes. \n",
       "\n",
       "Alright, time to structure the final answer with the required sections. Keep it neutral, specific, and text-only as instructed.\n",
       "</think>\n",
       "\n",
       "**Consensus Bullets:**  \n",
       "- **Fuel Efficiency:** The 2024 Honda Civic offers strong fuel economy, with the 1.5L turbo model achieving up to 32/42 mpg (city/highway) and the base 2.0L at 30/38 mpg.  \n",
       "- **Tech Features:** Standard Apple CarPlay/Android Auto, a user-friendly infotainment system (7–10.2-inch screens depending on trim), and Honda’s Smart Device Link app enhance connectivity.  \n",
       "- **Driving Dynamics:** Agile handling, precise steering, and a refined ride quality, with improved suspension tuning for a smoother experience.  \n",
       "- **Safety Tech:** Honda Sensing suite (adaptive cruise control, lane-keep assist, etc.) is standard across all trims.  \n",
       "- **Value:** Competitive pricing starting at $25,250, a 10-year/100,000-mile powertrain warranty, and strong resale value.  \n",
       "\n",
       "**Verdict:**  \n",
       "The 2024 Honda Civic remains a top compact car, excelling in fuel efficiency, tech integration, and driving dynamics. Its 1.5L turbo engine is recommended for most buyers due to better efficiency and agility, though the base 2.0L offers a smoother ride. While the interior materials lag slightly behind competitors, the Civic’s standard safety features, refined handling, and strong value proposition make it a practical and driver-focused choice.  \n",
       "\n",
       "**Where Reviewers Agree:**  \n",
       "- Consensus on fuel efficiency, tech features, and driving dynamics as key strengths.  \n",
       "- All agree on the standardization of advanced safety tech and competitive pricing.  \n",
       "\n",
       "**Where They Differ:**  \n",
       "- Edmunds highlights the 1.5L turbo’s superiority in agility and efficiency, while Car & Driver and Top Gear note the base model’s smoother ride.  \n",
       "- Car & Driver and Top Gear mention interior materials as a weakness, whereas Edmunds focuses more on engine-specific performance trade-offs."
      ],
      "text/plain": [
       "<IPython.core.display.Markdown object>"
      ]
     },
     "metadata": {},
     "output_type": "display_data"
    }
   ],
   "source": [
    "# Tasks for the three retrievers\n",
    "t1 = Task(\n",
    "    description=f\"Topic: {topic}\\nSearch site:edmunds.com {topic}. \"\n",
    "                \"Return 5 bullets + 1 verdict + 1-2 links (plain URLs).\",\n",
    "    agent=reviewer1,  # Give this task to the Edmunds reviewer\n",
    "    expected_output=\"5 bullets + verdict + links\" # What I want back\n",
    ")\n",
    "t2 = Task(\n",
    "    description=f\"Topic: {topic}\\nSearch site:caranddriver.com {topic}. \"\n",
    "                \"Return 5 bullets + 1 verdict + 1-2 links (plain URLs).\",\n",
    "    agent=reviewer2,  # Give this to Car and Driver reviewer\n",
    "    expected_output=\"5 bullets + verdict + links\"\n",
    ")\n",
    "t3 = Task(\n",
    "    description=f\"Topic: {topic}\\nSearch (site:topgear.com OR site:autocar.co.uk OR site:whatcar.com) {topic}. \"\n",
    "                \"Return 5 bullets + 1 verdict + 1-2 links (plain URLs).\",\n",
    "    agent=reviewer3,   #Give this to Top Gear reviewer\n",
    "    expected_output=\"5 bullets + verdict + links\"\n",
    ")\n",
    "\n",
    "# Function for running individual tasks in parallel\n",
    "\n",
    "def run_task_in_parallel(task): \n",
    "    individual_crew = Crew(      \n",
    "        agents=[task.agent],      # Put the agent in its own crew\n",
    "        tasks=[task],             # Give it the task to do\n",
    "        verbose=False             # Don't show too much detail\n",
    "    )\n",
    "    return individual_crew.kickoff()       # Start the work and return result\n",
    "\n",
    "# Running t1, t2, t3 in parallel using ThreadPoolExecutor\n",
    "with ThreadPoolExecutor(max_workers=3) as executor:        # Start 3 workers at the same time\n",
    "    future_t1 = executor.submit(run_task_in_parallel, t1)  # Start Edmunds search\n",
    "    future_t2 = executor.submit(run_task_in_parallel, t2)  # Start Car & Driver search\n",
    "    future_t3 = executor.submit(run_task_in_parallel, t3)  # Start Top Gear search\n",
    "    \n",
    "    # Get results from parallel execution\n",
    "    result_t1 = future_t1.result()   # Wait for Edmunds result\n",
    "    result_t2 = future_t2.result()   # Wait for Car & Driver result\n",
    "    result_t3 = future_t3.result()   # Wait for Top Gear result\n",
    "\n",
    "#  t_final task description\n",
    "t_final = Task(\n",
    "    description=(\n",
    "        f\"Based on these three reviews:\\n\\n\"\n",
    "        f\"Review 1 (Edmunds): {result_t1}\\n\\n\"\n",
    "        f\"Review 2 (Car & Driver): {result_t2}\\n\\n\" \n",
    "        f\"Review 3 (Top Gear): {result_t3}\\n\\n\"\n",
    "        \"Combine the three reviewer outputs into:\\n\"\n",
    "        \"- 4-6 consensus bullets (no duplicates)\\n\"\n",
    "        \"- One verdict paragraph (3-5 sentences) for buyers\\n\"\n",
    "        \"- 'Where reviewers agree' and 'Where they differ' (1-2 bullets each)\\n\"\n",
    "        \"Keep it neutral, specific, and text-only.\"\n",
    "    ),\n",
    "    agent=synthesizer,      # Give this to the synthesizer agent\n",
    "    expected_output=\"Bullets + verdict paragraph + agreement/differences\"   # What I expect back\n",
    ")\n",
    "\n",
    "# Final synthesis\n",
    "final_crew = Crew(\n",
    "    agents=[synthesizer],  # Just the synthesizer agent\n",
    "    tasks=[t_final],       # Give it the final task\n",
    "    verbose=False           # Keep it quiet\n",
    ")\n",
    "\n",
    "final_result = final_crew.kickoff()    # Run the synthesis and get final result\n",
    "\n",
    "# Displaying results\n",
    "results = [result_t1, result_t2, result_t3, final_result]   # Put all results in a list\n",
    "\n",
    "# Names for each agent\n",
    "agent_roles = [\"Reviewer A (Edmunds bias)\", \"Reviewer B (Car and Driver bias)\", \"Reviewer C (Top Gear / other mags bias)\", \"Final Synthesizer\"]\n",
    "\n",
    "# Loop through and show each result with its agent name\n",
    "for i, (result, role) in enumerate(zip(results, agent_roles)):\n",
    "    display(Markdown(f\"### {i}: {role}\\n\\n{result}\")) # Display each result nicely formatted"
   ]
  }
 ],
 "metadata": {
  "kernelspec": {
   "display_name": "base",
   "language": "python",
   "name": "python3"
  },
  "language_info": {
   "codemirror_mode": {
    "name": "ipython",
    "version": 3
   },
   "file_extension": ".py",
   "mimetype": "text/x-python",
   "name": "python",
   "nbconvert_exporter": "python",
   "pygments_lexer": "ipython3",
   "version": "3.12.7"
  }
 },
 "nbformat": 4,
 "nbformat_minor": 5
}

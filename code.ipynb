{
 "cells": [
  {
   "cell_type": "markdown",
   "id": "667e140a",
   "metadata": {},
   "source": [
    "## Import Libraries"
   ]
  },
  {
   "cell_type": "code",
   "execution_count": 1,
   "id": "18da65bf",
   "metadata": {},
   "outputs": [],
   "source": [
    "import os\n",
    "from crewai import Agent, Task, Crew\n",
    "from crewai.flow.flow import Flow, start, listen  \n",
    "from langchain_experimental.tools import PythonREPLTool\n",
    "from langchain_community.tools import DuckDuckGoSearchRun\n",
    "\n"
   ]
  },
  {
   "cell_type": "markdown",
   "id": "6355dd35",
   "metadata": {},
   "source": [
    "## Load the  LLM\n"
   ]
  },
  {
   "cell_type": "code",
   "execution_count": 2,
   "id": "ed4ff090",
   "metadata": {},
   "outputs": [
    {
     "name": "stderr",
     "output_type": "stream",
     "text": [
      "llama_context: n_batch is less than GGML_KQ_MASK_PAD - increasing to 64\n",
      "llama_context: n_ctx_per_seq (1024) < n_ctx_train (2048) -- the full capacity of the model will not be utilized\n",
      "ggml_metal_init: skipping kernel_get_rows_bf16                     (not supported)\n",
      "ggml_metal_init: skipping kernel_set_rows_bf16                     (not supported)\n",
      "ggml_metal_init: skipping kernel_mul_mv_bf16_f32                   (not supported)\n",
      "ggml_metal_init: skipping kernel_mul_mv_bf16_f32_c4                (not supported)\n",
      "ggml_metal_init: skipping kernel_mul_mv_bf16_f32_1row              (not supported)\n",
      "ggml_metal_init: skipping kernel_mul_mv_bf16_f32_l4                (not supported)\n",
      "ggml_metal_init: skipping kernel_mul_mv_bf16_bf16                  (not supported)\n",
      "ggml_metal_init: skipping kernel_mul_mv_id_bf16_f32                (not supported)\n",
      "ggml_metal_init: skipping kernel_mul_mm_bf16_f32                   (not supported)\n",
      "ggml_metal_init: skipping kernel_mul_mm_id_bf16_f16                (not supported)\n",
      "ggml_metal_init: skipping kernel_flash_attn_ext_bf16_h64           (not supported)\n",
      "ggml_metal_init: skipping kernel_flash_attn_ext_bf16_h80           (not supported)\n",
      "ggml_metal_init: skipping kernel_flash_attn_ext_bf16_h96           (not supported)\n",
      "ggml_metal_init: skipping kernel_flash_attn_ext_bf16_h112          (not supported)\n",
      "ggml_metal_init: skipping kernel_flash_attn_ext_bf16_h128          (not supported)\n",
      "ggml_metal_init: skipping kernel_flash_attn_ext_bf16_h192          (not supported)\n",
      "ggml_metal_init: skipping kernel_flash_attn_ext_bf16_hk192_hv128   (not supported)\n",
      "ggml_metal_init: skipping kernel_flash_attn_ext_bf16_h256          (not supported)\n",
      "ggml_metal_init: skipping kernel_flash_attn_ext_bf16_hk576_hv512   (not supported)\n",
      "ggml_metal_init: skipping kernel_flash_attn_ext_vec_bf16_h64       (not supported)\n",
      "ggml_metal_init: skipping kernel_flash_attn_ext_vec_bf16_h96       (not supported)\n",
      "ggml_metal_init: skipping kernel_flash_attn_ext_vec_bf16_h128      (not supported)\n",
      "ggml_metal_init: skipping kernel_flash_attn_ext_vec_bf16_h192      (not supported)\n",
      "ggml_metal_init: skipping kernel_flash_attn_ext_vec_bf16_hk192_hv128 (not supported)\n",
      "ggml_metal_init: skipping kernel_flash_attn_ext_vec_bf16_h256      (not supported)\n",
      "ggml_metal_init: skipping kernel_flash_attn_ext_vec_bf16_hk576_hv512 (not supported)\n",
      "ggml_metal_init: skipping kernel_cpy_f32_bf16                      (not supported)\n",
      "ggml_metal_init: skipping kernel_cpy_bf16_f32                      (not supported)\n",
      "ggml_metal_init: skipping kernel_cpy_bf16_bf16                     (not supported)\n",
      "llama_kv_cache_unified: LLAMA_SET_ROWS=0, using old ggml_cpy() method for backwards compatibility\n"
     ]
    },
    {
     "name": "stdout",
     "output_type": "stream",
     "text": [
      "content='LangChain is a free, open-source translation memory and translation software for multiple languages.' additional_kwargs={} response_metadata={'finish_reason': 'stop'} id='run--a7f767e9-baee-438e-9cca-94daddeb02d3-0'\n"
     ]
    }
   ],
   "source": [
    "import os\n",
    "from langchain_community.chat_models.llamacpp import ChatLlamaCpp\n",
    "\n",
    "llm = ChatLlamaCpp(\n",
    "    model_path=os.path.abspath(\"tinyllama-1.1b-chat-v1.0.Q4_K_M.gguf\"),\n",
    "    n_ctx=1024,\n",
    "    n_threads=4,\n",
    "    verbose=False\n",
    ")\n",
    "\n",
    "response = llm.invoke([(\"human\", \"Explain LangChain in one line.\")])\n",
    "print(response)\n",
    "\n",
    "\n",
    "\n"
   ]
  },
  {
   "cell_type": "markdown",
   "id": "c5ec0def",
   "metadata": {},
   "source": [
    "## Load Tools"
   ]
  },
  {
   "cell_type": "code",
   "execution_count": null,
   "id": "4025ef7a",
   "metadata": {},
   "outputs": [],
   "source": [
    "from crewai.tools import tool\n",
    "from langchain_community.tools import DuckDuckGoSearchRun\n",
    "\n",
    "@tool(\"DuckDuckGo Search\")\n",
    "def search_tool(query: str) -> str:\n",
    "    \"\"\"Searches the web using DuckDuckGo.\"\"\"\n",
    "    return DuckDuckGoSearchRun().run(query)\n",
    "\n"
   ]
  },
  {
   "cell_type": "markdown",
   "id": "6046246b",
   "metadata": {},
   "source": [
    "## Agent Definitions\n",
    "\n"
   ]
  },
  {
   "cell_type": "code",
   "execution_count": 17,
   "id": "9382292f",
   "metadata": {},
   "outputs": [],
   "source": [
    "loader_agent = Agent(\n",
    "    role=\"Loader Agent\",\n",
    "    goal=\"Search and retrieve electric consumption data for Indian states (2018–2023).\",\n",
    "    backstory=\"A research assistant who finds credible data sources from the web.\",\n",
    "    tools=[search_tool],\n",
    "    llm=llm,\n",
    "    verbose=True\n",
    ")"
   ]
  },
  {
   "cell_type": "code",
   "execution_count": 29,
   "id": "1763bd7d",
   "metadata": {},
   "outputs": [],
   "source": [
    "from langchain_experimental.tools import PythonREPLTool\n",
    "\n",
    "\n",
    "@tool(\"DuckDuckGo Search\")\n",
    "def search_tool1(query: str) -> str:\n",
    "    \"\"\"Searches the web using DuckDuckGo.\"\"\"\n",
    "    return PythonREPLTool().run(query)\n"
   ]
  },
  {
   "cell_type": "code",
   "execution_count": 30,
   "id": "af4329ab",
   "metadata": {},
   "outputs": [],
   "source": [
    "analyzer_agent = Agent(\n",
    "    role=\"Analyzer Agent\",\n",
    "    goal=\"Analyze the CSV to find top 3 states with highest average consumption.\",\n",
    "    backstory=\"A data analyst who uses pandas to extract patterns.\",\n",
    "    tools=[search_tool1],\n",
    "    llm=llm,\n",
    "    verbose=True\n",
    ")\n",
    "#This one loads CSV and analyzes with pandas."
   ]
  },
  {
   "cell_type": "code",
   "execution_count": null,
   "id": "df28edcd",
   "metadata": {},
   "outputs": [],
   "source": []
  },
  {
   "cell_type": "code",
   "execution_count": null,
   "id": "61f0fb28",
   "metadata": {},
   "outputs": [],
   "source": [
    "visualizer_agent = Agent(\n",
    "    role=\"Visualizer Agent\",\n",
    "    goal=\"Create bar charts to show electricity consumption per year by state.\",\n",
    "    backstory=\"A matplotlib expert for Indian state electricity data.\",\n",
    "    tools=[python_tool],\n",
    "    llm=llm,\n",
    "    verbose=True\n",
    ")\n",
    "#Makes visual plots of electricity data."
   ]
  },
  {
   "cell_type": "code",
   "execution_count": null,
   "id": "b8aef407",
   "metadata": {},
   "outputs": [],
   "source": [
    "summarizer_agent = Agent(\n",
    "    role=\"Summarizer Agent\",\n",
    "    goal=\"Write a 2-3 sentence summary about which states consumed the most electricity and why.\",\n",
    "    backstory=\"A professional executive summary writer.\",\n",
    "    tools=[],\n",
    "    llm=llm,\n",
    "    verbose=True\n",
    ")\n",
    "#Pure LLM-based summary writer.\n",
    "\n"
   ]
  },
  {
   "cell_type": "markdown",
   "id": "e6543280",
   "metadata": {},
   "source": [
    "## Task Definitions"
   ]
  },
  {
   "cell_type": "code",
   "execution_count": null,
   "id": "f5bf1b90",
   "metadata": {},
   "outputs": [],
   "source": [
    "load_task = Task(\n",
    "    description=\"Search for electricity consumption datasets for Indian states (2018–2023). Focus on government sources. Print top 3 links.\",\n",
    "    agent=loader_agent\n",
    ")\n",
    "\n",
    "analyze_task = Task(\n",
    "    description=\"Load a CSV file, calculate average consumption, and print top 3 states.\",\n",
    "    agent=analyzer_agent\n",
    ")\n",
    "\n",
    "visualize_task = Task(\n",
    "    description=\"Use matplotlib/seaborn to plot electricity consumption for each state.\",\n",
    "    agent=visualizer_agent\n",
    ")\n",
    "\n",
    "summarize_task = Task(\n",
    "    description=\"Write a summary of insights from the data and visualizations in 2–3 sentences.\",\n",
    "    agent=summarizer_agent\n",
    ")\n",
    "#Each task explains what the agent should do."
   ]
  },
  {
   "cell_type": "markdown",
   "id": "0391ffa4",
   "metadata": {},
   "source": [
    "## Flow Definition"
   ]
  },
  {
   "cell_type": "code",
   "execution_count": null,
   "id": "7e2f73ac",
   "metadata": {},
   "outputs": [],
   "source": [
    "flow = Sequential(\n",
    "    steps=[\n",
    "        load_task,\n",
    "        Parallel(steps=[analyze_task, visualize_task, summarize_task])\n",
    "    ]\n",
    ")\n",
    "#First, data is loaded. Then 3 tasks run in parallel."
   ]
  },
  {
   "cell_type": "markdown",
   "id": "101c72ba",
   "metadata": {},
   "source": [
    "##  Run and Show Result"
   ]
  },
  {
   "cell_type": "code",
   "execution_count": null,
   "id": "724f8ec5",
   "metadata": {},
   "outputs": [],
   "source": [
    "crew = Crew(flow=flow, verbose=True)\n",
    "result = crew.kickoff()\n",
    "\n",
    "print(\"\\n Final Result:ssssss\n"
   ]
  },
  {
   "cell_type": "markdown",
   "id": "cee6c051",
   "metadata": {},
   "source": []
  }
 ],
 "metadata": {
  "kernelspec": {
   "display_name": "base",
   "language": "python",
   "name": "python3"
  },
  "language_info": {
   "codemirror_mode": {
    "name": "ipython",
    "version": 3
   },
   "file_extension": ".py",
   "mimetype": "text/x-python",
   "name": "python",
   "nbconvert_exporter": "python",
   "pygments_lexer": "ipython3",
   "version": "3.12.7"
  }
 },
 "nbformat": 4,
 "nbformat_minor": 5
}

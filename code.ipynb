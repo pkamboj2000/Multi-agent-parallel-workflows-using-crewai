{
 "cells": [
  {
   "cell_type": "markdown",
   "id": "667e140a",
   "metadata": {},
   "source": [
    "## Import Libraries"
   ]
  },
  {
   "cell_type": "code",
   "execution_count": null,
   "id": "18da65bf",
   "metadata": {},
   "outputs": [],
   "source": [
    "from crewai import Agent, Task, Crew\n",
    "from langchain.chat_models import ChatOpenAI\n",
    "from langchain.tools import DuckDuckGoSearchRun, PythonREPLTool\n",
    "import os\n"
   ]
  },
  {
   "cell_type": "code",
   "execution_count": null,
   "id": "b7b0a198",
   "metadata": {},
   "outputs": [],
   "source": [
    "os.environ['OPENAI_API_KEY'] = 'your-openai-key-here'  # Replace with your key\n"
   ]
  },
  {
   "cell_type": "markdown",
   "id": "a0bdc73c",
   "metadata": {},
   "source": [
    "## Define the Flow State (Shared Data Container)\n"
   ]
  },
  {
   "cell_type": "markdown",
   "id": "3a19ccaf",
   "metadata": {},
   "source": [
    "class MyFlowState(BaseModel):\n",
    "    data: pd.DataFrame = None\n",
    "    insights: str = None\n",
    "    chart_path: str = None\n",
    "    summary: str = None\n"
   ]
  },
  {
   "cell_type": "markdown",
   "id": "f6903a6c",
   "metadata": {},
   "source": [
    "## Define the 4 Agents"
   ]
  },
  {
   "cell_type": "markdown",
   "id": "44723ed9",
   "metadata": {},
   "source": [
    "loader_agent = Agent(\n",
    "    role='Loader Agent',\n",
    "    goal='Load and clean the dataset',\n",
    "    backstory='Expert in data loading',\n",
    "    verbose=True\n",
    ")\n",
    "\n",
    "analyzer_agent = Agent(\n",
    "    role='Analyzer Agent',\n",
    "    goal='Extract insights from the data',\n",
    "    backstory='Specialist in statistical analysis',\n",
    "    verbose=True\n",
    ")\n",
    "\n",
    "visualizer_agent = Agent(\n",
    "    role='Visualizer Agent',\n",
    "    goal='Create visual plots from the data',\n",
    "    backstory='Data visualization expert',\n",
    "    verbose=True\n",
    ")\n",
    "\n",
    "summarizer_agent = Agent(\n",
    "    role='Summarizer Agent',\n",
    "    goal='Write a summary of the analysis',\n",
    "    backstory='Skilled in summarizing findings',\n",
    "    verbose=True\n",
    ")\n"
   ]
  },
  {
   "cell_type": "markdown",
   "id": "add6416e",
   "metadata": {},
   "source": [
    "## Define the Flow Logic"
   ]
  },
  {
   "cell_type": "markdown",
   "id": "c8c4066d",
   "metadata": {},
   "source": [
    "class MyFlow(Flow):\n",
    "    class Config:\n",
    "        flow_state = MyFlowState\n",
    "\n",
    "    @start\n",
    "    def load_data(self):\n",
    "        # Simulated data\n",
    "        df = pd.DataFrame({\n",
    "            'Year': [2020, 2021, 2022, 2023],\n",
    "            'Revenue': [100, 150, 130, 180],\n",
    "            'Expenses': [80, 100, 90, 120]\n",
    "        })\n",
    "        self.state.data = df\n",
    "        return 'Data loaded.'\n",
    "\n",
    "    @listen(load_data)\n",
    "    def analyze_data(self):\n",
    "        df = self.state.data\n",
    "        insight = f\"Avg Revenue: {df['Revenue'].mean()}, Avg Expenses: {df['Expenses'].mean()}\"\n",
    "        self.state.insights = insight\n",
    "        return insight\n",
    "\n",
    "    @listen(load_data)\n",
    "    def visualize_data(self):\n",
    "        df = self.state.data\n",
    "        plt.figure(figsize=(6, 4))\n",
    "        plt.plot(df['Year'], df['Revenue'], label='Revenue')\n",
    "        plt.plot(df['Year'], df['Expenses'], label='Expenses')\n",
    "        plt.legend()\n",
    "        plt.title(\"Revenue vs Expenses\")\n",
    "        chart_path = \"/mnt/data/revenue_vs_expenses.png\"\n",
    "        plt.savefig(chart_path)\n",
    "        self.state.chart_path = chart_path\n",
    "        return f\"Chart saved at {chart_path}\"\n",
    "\n",
    "    @listen(load_data)\n",
    "    def summarize_data(self):\n",
    "        df = self.state.data\n",
    "        summary = f\"In {df['Year'].iloc[-1]}, Revenue was {df['Revenue'].iloc[-1]} and Expenses were {df['Expenses'].iloc[-1]}.\"\n",
    "        self.state.summary = summary\n",
    "        return summary\n"
   ]
  },
  {
   "cell_type": "markdown",
   "id": "e4c1262c",
   "metadata": {},
   "source": [
    "## Run the Flow"
   ]
  },
  {
   "cell_type": "markdown",
   "id": "d9b691a9",
   "metadata": {},
   "source": [
    "flow = MyFlow()\n",
    "flow_output = flow.kickoff()\n",
    "flow_output"
   ]
  },
  {
   "cell_type": "markdown",
   "id": "123edf3a",
   "metadata": {},
   "source": [
    "## Check Final State"
   ]
  },
  {
   "cell_type": "markdown",
   "id": "24399c86",
   "metadata": {},
   "source": [
    "flow.state"
   ]
  }
 ],
 "metadata": {
  "kernelspec": {
   "display_name": "base",
   "language": "python",
   "name": "python3"
  },
  "language_info": {
   "codemirror_mode": {
    "name": "ipython",
    "version": 3
   },
   "file_extension": ".py",
   "mimetype": "text/x-python",
   "name": "python",
   "nbconvert_exporter": "python",
   "pygments_lexer": "ipython3",
   "version": "3.12.7"
  }
 },
 "nbformat": 4,
 "nbformat_minor": 5
}
